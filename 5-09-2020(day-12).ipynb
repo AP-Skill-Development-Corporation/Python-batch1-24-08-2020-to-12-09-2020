{
 "cells": [
  {
   "cell_type": "code",
   "execution_count": 1,
   "metadata": {},
   "outputs": [
    {
     "name": "stdout",
     "output_type": "stream",
     "text": [
      "enter a number:Pavani.67@00000\n",
      "valid password\n"
     ]
    }
   ],
   "source": [
    "#task: #Pavani.56@00000\n",
    "import re\n",
    "password=input(\"enter a number:\")\n",
    "pattern=\"^[A-Z][a-z]{5,10}[.][0-9]{2}[@][0]{5}$\"\n",
    "if re.match(pattern,password):\n",
    "    print(\"valid password\")\n",
    "else:\n",
    "    print(\"not a valid password\")    "
   ]
  },
  {
   "cell_type": "code",
   "execution_count": null,
   "metadata": {},
   "outputs": [],
   "source": []
  },
  {
   "cell_type": "markdown",
   "metadata": {},
   "source": [
    "## File Handling:"
   ]
  },
  {
   "cell_type": "code",
   "execution_count": null,
   "metadata": {},
   "outputs": [],
   "source": [
    "- file handling allows users to handle files.\n",
    "#steps:\n",
    "- open a file\n",
    "- doing the operations\n",
    "- close a file"
   ]
  },
  {
   "cell_type": "code",
   "execution_count": null,
   "metadata": {},
   "outputs": [],
   "source": [
    "#syn:\n",
    "open(filename,mode)\n",
    "# 3 modes:\n",
    "- read \"r\"\n",
    "- write \"w\"\n",
    "- append \"a\""
   ]
  },
  {
   "cell_type": "code",
   "execution_count": 2,
   "metadata": {},
   "outputs": [
    {
     "name": "stdout",
     "output_type": "stream",
     "text": [
      "hello everyone \n",
      "welcome to python online training\n"
     ]
    }
   ],
   "source": [
    "# open():\n",
    "# by default,the file will be opened in \"r\" mode\n",
    "f=open('data.txt')\n",
    "fr=f.read()\n",
    "print(fr)\n",
    "f.close()"
   ]
  },
  {
   "cell_type": "code",
   "execution_count": 3,
   "metadata": {},
   "outputs": [
    {
     "name": "stdout",
     "output_type": "stream",
     "text": [
      "hello everyone \n",
      "welcome to python online training\n"
     ]
    }
   ],
   "source": [
    "# using with open()\n",
    "# with automatically closes the file at the end of the operation\n",
    "with open('data.txt') as f:\n",
    "    fr=f.read()\n",
    "    print(fr)"
   ]
  },
  {
   "cell_type": "code",
   "execution_count": 4,
   "metadata": {},
   "outputs": [
    {
     "name": "stdout",
     "output_type": "stream",
     "text": [
      "hello everyone \n",
      "welcome to python online training\n"
     ]
    }
   ],
   "source": [
    "# read()\n",
    "# with mode\n",
    "f=open('data.txt',\"r\")\n",
    "fr=f.read()\n",
    "print(fr)\n",
    "f.close()"
   ]
  },
  {
   "cell_type": "code",
   "execution_count": null,
   "metadata": {},
   "outputs": [],
   "source": [
    "- if you do any changes in file then without close() it doesn't save your changes."
   ]
  },
  {
   "cell_type": "code",
   "execution_count": 5,
   "metadata": {},
   "outputs": [
    {
     "ename": "FileNotFoundError",
     "evalue": "[Errno 2] No such file or directory: 'data1.txt'",
     "output_type": "error",
     "traceback": [
      "\u001b[1;31m---------------------------------------------------------------------------\u001b[0m",
      "\u001b[1;31mFileNotFoundError\u001b[0m                         Traceback (most recent call last)",
      "\u001b[1;32m<ipython-input-5-e34d8d09001d>\u001b[0m in \u001b[0;36m<module>\u001b[1;34m\u001b[0m\n\u001b[0;32m      1\u001b[0m \u001b[1;31m# read()\u001b[0m\u001b[1;33m\u001b[0m\u001b[1;33m\u001b[0m\u001b[1;33m\u001b[0m\u001b[0m\n\u001b[0;32m      2\u001b[0m \u001b[1;31m# with mode\u001b[0m\u001b[1;33m\u001b[0m\u001b[1;33m\u001b[0m\u001b[1;33m\u001b[0m\u001b[0m\n\u001b[1;32m----> 3\u001b[1;33m \u001b[0mf\u001b[0m\u001b[1;33m=\u001b[0m\u001b[0mopen\u001b[0m\u001b[1;33m(\u001b[0m\u001b[1;34m'data1.txt'\u001b[0m\u001b[1;33m,\u001b[0m\u001b[1;34m\"r\"\u001b[0m\u001b[1;33m)\u001b[0m\u001b[1;33m\u001b[0m\u001b[1;33m\u001b[0m\u001b[0m\n\u001b[0m\u001b[0;32m      4\u001b[0m \u001b[0mfr\u001b[0m\u001b[1;33m=\u001b[0m\u001b[0mf\u001b[0m\u001b[1;33m.\u001b[0m\u001b[0mread\u001b[0m\u001b[1;33m(\u001b[0m\u001b[1;33m)\u001b[0m\u001b[1;33m\u001b[0m\u001b[1;33m\u001b[0m\u001b[0m\n\u001b[0;32m      5\u001b[0m \u001b[0mprint\u001b[0m\u001b[1;33m(\u001b[0m\u001b[0mfr\u001b[0m\u001b[1;33m)\u001b[0m\u001b[1;33m\u001b[0m\u001b[1;33m\u001b[0m\u001b[0m\n",
      "\u001b[1;31mFileNotFoundError\u001b[0m: [Errno 2] No such file or directory: 'data1.txt'"
     ]
    }
   ],
   "source": [
    "# read()\n",
    "# file is not there in directory it gives an error\n",
    "f=open('data1.txt',\"r\")\n",
    "fr=f.read()\n",
    "print(fr)\n",
    "f.close()"
   ]
  },
  {
   "cell_type": "code",
   "execution_count": 6,
   "metadata": {},
   "outputs": [
    {
     "name": "stdout",
     "output_type": "stream",
     "text": [
      "hii everyone\n"
     ]
    }
   ],
   "source": [
    "f=open('datafiles/test.txt',\"r\")\n",
    "fr=f.read()\n",
    "print(fr)\n",
    "f.close()"
   ]
  },
  {
   "cell_type": "code",
   "execution_count": 7,
   "metadata": {},
   "outputs": [
    {
     "name": "stdout",
     "output_type": "stream",
     "text": [
      "\n"
     ]
    }
   ],
   "source": [
    "f=open('datafiles/test.txt',\"r\")\n",
    "fr=f.read()\n",
    "print(fr)\n",
    "f.close()"
   ]
  },
  {
   "cell_type": "code",
   "execution_count": null,
   "metadata": {},
   "outputs": [],
   "source": []
  },
  {
   "cell_type": "code",
   "execution_count": null,
   "metadata": {},
   "outputs": [],
   "source": [
    "# write()\n",
    "- we dont have that file it will create and insert single line"
   ]
  },
  {
   "cell_type": "code",
   "execution_count": 8,
   "metadata": {},
   "outputs": [
    {
     "name": "stdout",
     "output_type": "stream",
     "text": [
      "20\n"
     ]
    }
   ],
   "source": [
    "f=open('data1.txt','w')\n",
    "fr=f.write(\"python programming \\n\")\n",
    "print(fr)\n",
    "f.close()"
   ]
  },
  {
   "cell_type": "code",
   "execution_count": 9,
   "metadata": {},
   "outputs": [
    {
     "name": "stdout",
     "output_type": "stream",
     "text": [
      "14\n"
     ]
    }
   ],
   "source": [
    "f=open('data1.txt','w')\n",
    "fr=f.write(\"online class \\n\")\n",
    "print(fr)\n",
    "f.close()"
   ]
  },
  {
   "cell_type": "code",
   "execution_count": 10,
   "metadata": {},
   "outputs": [
    {
     "name": "stdout",
     "output_type": "stream",
     "text": [
      "17\n"
     ]
    }
   ],
   "source": [
    "# append()\n",
    "f=open('data1.txt','a')\n",
    "fr=f.write(\"apssdc workshop \\n\")\n",
    "print(fr)\n",
    "f.close()"
   ]
  },
  {
   "cell_type": "code",
   "execution_count": 58,
   "metadata": {},
   "outputs": [
    {
     "name": "stdout",
     "output_type": "stream",
     "text": [
      "17\n"
     ]
    }
   ],
   "source": [
    "f=open('data2.txt','a')\n",
    "fr=f.write(\"apssdc workshop \\n\")\n",
    "print(fr)\n",
    "f.close()"
   ]
  },
  {
   "cell_type": "code",
   "execution_count": null,
   "metadata": {},
   "outputs": [],
   "source": [
    "# read():\n",
    "if file existed then only we can read...if file is not present it displays an error.\n",
    "# write():\n",
    "if file is doesn't exist it will create and we can add only single line\n",
    "if you try to add another line it replace first line with new line.\n",
    "# append():\n",
    "if file is doesn't exist it will create and we can add as many lines as you wanr\n",
    "using append we can add as many lines you want....\n"
   ]
  },
  {
   "cell_type": "code",
   "execution_count": 12,
   "metadata": {},
   "outputs": [
    {
     "name": "stdout",
     "output_type": "stream",
     "text": [
      "['python', 'programming', 'online']\n"
     ]
    }
   ],
   "source": [
    "s=\"python programming online\"\n",
    "print(s.split())"
   ]
  },
  {
   "cell_type": "code",
   "execution_count": 16,
   "metadata": {},
   "outputs": [
    {
     "name": "stdout",
     "output_type": "stream",
     "text": [
      "online class \n",
      "apssdc workshop \n",
      "line 1\n",
      "line 2\n",
      "line 3\n",
      "line4\n"
     ]
    }
   ],
   "source": [
    "f=open('data1.txt','r')\n",
    "fr=f.read()\n",
    "print(fr)\n",
    "f.close()"
   ]
  },
  {
   "cell_type": "code",
   "execution_count": 17,
   "metadata": {},
   "outputs": [
    {
     "name": "stdout",
     "output_type": "stream",
     "text": [
      "['online', 'class', 'apssdc', 'workshop', 'line', '1', 'line', '2', 'line', '3', 'line4']\n"
     ]
    }
   ],
   "source": [
    "#split()--->space based\n",
    "f=open('data1.txt','r')\n",
    "fr=f.read()\n",
    "print(fr.split())\n",
    "f.close()"
   ]
  },
  {
   "cell_type": "code",
   "execution_count": 18,
   "metadata": {},
   "outputs": [
    {
     "name": "stdout",
     "output_type": "stream",
     "text": [
      "['online class ', 'apssdc workshop ', 'line 1', 'line 2', 'line 3', 'line4']\n"
     ]
    }
   ],
   "source": [
    "#splitlines()---->line based\n",
    "f=open('data1.txt','r')\n",
    "fr=f.read()\n",
    "print(fr.splitlines())\n",
    "f.close()"
   ]
  },
  {
   "cell_type": "code",
   "execution_count": 19,
   "metadata": {},
   "outputs": [
    {
     "name": "stdout",
     "output_type": "stream",
     "text": [
      "online class \n",
      "\n"
     ]
    }
   ],
   "source": [
    "#readline()---- first line\n",
    "f=open('data1.txt','r')\n",
    "fr=f.readline()\n",
    "print(fr)\n",
    "f.close()"
   ]
  },
  {
   "cell_type": "code",
   "execution_count": 20,
   "metadata": {},
   "outputs": [
    {
     "name": "stdout",
     "output_type": "stream",
     "text": [
      "['online class \\n', 'apssdc workshop \\n', 'line 1\\n', 'line 2\\n', 'line 3\\n', 'line4']\n"
     ]
    }
   ],
   "source": [
    "#readlines()----all lines with '\\n' s\n",
    "f=open('data1.txt','r')\n",
    "fr=f.readlines()\n",
    "print(fr)\n",
    "f.close()"
   ]
  },
  {
   "cell_type": "code",
   "execution_count": 21,
   "metadata": {},
   "outputs": [
    {
     "name": "stdout",
     "output_type": "stream",
     "text": [
      "57\n"
     ]
    }
   ],
   "source": [
    "# tell()---->cursor position\n",
    "f=open(\"data1.txt\",\"r\")\n",
    "f.read()\n",
    "print(f.tell())\n",
    "f.close()"
   ]
  },
  {
   "cell_type": "code",
   "execution_count": 22,
   "metadata": {},
   "outputs": [
    {
     "name": "stdout",
     "output_type": "stream",
     "text": [
      "online \n"
     ]
    }
   ],
   "source": [
    "# seek--->curser move to o position\n",
    "f=open(\"data1.txt\",\"r\")\n",
    "f.read()\n",
    "f.seek(0)\n",
    "print(f.read(7))  #0-6, 7 positions\n",
    "f.close()"
   ]
  },
  {
   "cell_type": "code",
   "execution_count": 23,
   "metadata": {},
   "outputs": [
    {
     "name": "stdout",
     "output_type": "stream",
     "text": [
      "57\n"
     ]
    }
   ],
   "source": [
    "# tell()---->cursor position\n",
    "f=open(\"data1.txt\",\"r\")\n",
    "f.read()\n",
    "print(f.tell())\n",
    "f.close()"
   ]
  },
  {
   "cell_type": "code",
   "execution_count": 28,
   "metadata": {},
   "outputs": [
    {
     "name": "stdout",
     "output_type": "stream",
     "text": [
      "e cla\n"
     ]
    }
   ],
   "source": [
    "# seek--->curser move to o position\n",
    "f=open(\"data1.txt\",\"r\")\n",
    "f.read()\n",
    "f.seek(5)\n",
    "print(f.read(5))  \n",
    "f.close()"
   ]
  },
  {
   "cell_type": "markdown",
   "metadata": {},
   "source": [
    "## file data processing:\n",
    "- file data processing means working with the data in a file and doing modifications in the data."
   ]
  },
  {
   "cell_type": "code",
   "execution_count": 31,
   "metadata": {},
   "outputs": [
    {
     "name": "stdout",
     "output_type": "stream",
     "text": [
      "sum: 33\n"
     ]
    }
   ],
   "source": [
    "l=[23,4,1,2,3]\n",
    "s=0\n",
    "for i in l: #23 4 1\n",
    "    s+=i #s=s+i  0+23=23  23+4=27 27+1=28 28+2=30 30+3=33\n",
    "print(\"sum:\",s)"
   ]
  },
  {
   "cell_type": "code",
   "execution_count": 36,
   "metadata": {},
   "outputs": [
    {
     "name": "stdout",
     "output_type": "stream",
     "text": [
      "['online', 'class', 'apssdc', 'workshop', 'line', '1', 'line', '2', 'line', '3', 'line4']\n",
      "11\n"
     ]
    }
   ],
   "source": [
    "f=open(\"data1.txt\",\"r\")\n",
    "fr=f.read()\n",
    "a=fr.split()\n",
    "print(a)\n",
    "print(len(a))"
   ]
  },
  {
   "cell_type": "code",
   "execution_count": 40,
   "metadata": {},
   "outputs": [
    {
     "name": "stdout",
     "output_type": "stream",
     "text": [
      "lines count: 6\n",
      "words count: 11\n",
      "characters count: 57\n"
     ]
    }
   ],
   "source": [
    "f=open(\"data1.txt\",\"r\")\n",
    "lines=0\n",
    "words=0\n",
    "charc=0\n",
    "s=0\n",
    "for line in f:\n",
    "    lines+=1\n",
    "    wordsplit=line.split()\n",
    "    words+=len(wordsplit)\n",
    "    charc+=len(line)\n",
    "    #s+=len(words)\n",
    "print(\"lines count:\",lines)\n",
    "print(\"words count:\",words)\n",
    "print(\"characters count:\",charc)\n",
    "#print(s)"
   ]
  },
  {
   "cell_type": "code",
   "execution_count": 43,
   "metadata": {},
   "outputs": [
    {
     "name": "stdout",
     "output_type": "stream",
     "text": [
      "['online', 'class', 'apssdc', 'workshop', 'line', '1', 'line', '2', 'line', '3', 'line4']\n",
      "['online', 'class', 'apssdc', 'workshop', 'line', '1', '2', '3', 'line4']\n"
     ]
    }
   ],
   "source": [
    "#duplicates remove\n",
    "f=open(\"data1.txt\",'r')\n",
    "fh=f.read()\n",
    "b=fh.split()\n",
    "print(b)\n",
    "d=[]\n",
    "for i in b:\n",
    "    if i not in d:\n",
    "        d.append(i)\n",
    "print(d)\n",
    "f.close()"
   ]
  },
  {
   "cell_type": "code",
   "execution_count": 44,
   "metadata": {},
   "outputs": [
    {
     "data": {
      "text/plain": [
       "2"
      ]
     },
     "execution_count": 44,
     "metadata": {},
     "output_type": "execute_result"
    }
   ],
   "source": [
    "s=\"apssdc\"\n",
    "s.count('s')"
   ]
  },
  {
   "cell_type": "code",
   "execution_count": 45,
   "metadata": {},
   "outputs": [
    {
     "name": "stdout",
     "output_type": "stream",
     "text": [
      "['online', 'class', 'apssdc', 'workshop', 'line', '1', 'line', '2', 'line', '3', 'line4']\n",
      "['online', 'class', 'apssdc', 'workshop', '1', '2', '3', 'line4']\n"
     ]
    }
   ],
   "source": [
    "# unique elements\n",
    "f=open(\"data1.txt\",'r')\n",
    "fh=f.read()\n",
    "b=fh.split()\n",
    "print(b)\n",
    "d=[]\n",
    "for i in b: #class\n",
    "    if b.count(i)==1:\n",
    "        d.append(i)\n",
    "print(d)\n",
    "f.close()"
   ]
  },
  {
   "cell_type": "code",
   "execution_count": null,
   "metadata": {},
   "outputs": [],
   "source": []
  },
  {
   "cell_type": "code",
   "execution_count": 55,
   "metadata": {},
   "outputs": [
    {
     "data": {
      "text/plain": [
       "533"
      ]
     },
     "execution_count": 55,
     "metadata": {},
     "output_type": "execute_result"
    }
   ],
   "source": [
    "import random\n",
    "random.randint(000000,999999)"
   ]
  },
  {
   "cell_type": "code",
   "execution_count": 57,
   "metadata": {},
   "outputs": [
    {
     "name": "stdout",
     "output_type": "stream",
     "text": [
      "['BPF', 'LOG4', 'NV_MAGICCONST', 'RECIP_BPF', 'Random', 'SG_MAGICCONST', 'SystemRandom', 'TWOPI', '_BuiltinMethodType', '_MethodType', '_Sequence', '_Set', '__all__', '__builtins__', '__cached__', '__doc__', '__file__', '__loader__', '__name__', '__package__', '__spec__', '_acos', '_bisect', '_ceil', '_cos', '_e', '_exp', '_inst', '_itertools', '_log', '_os', '_pi', '_random', '_sha512', '_sin', '_sqrt', '_test', '_test_generator', '_urandom', '_warn', 'betavariate', 'choice', 'choices', 'expovariate', 'gammavariate', 'gauss', 'getrandbits', 'getstate', 'lognormvariate', 'normalvariate', 'paretovariate', 'randint', 'random', 'randrange', 'sample', 'seed', 'setstate', 'shuffle', 'triangular', 'uniform', 'vonmisesvariate', 'weibullvariate'] "
     ]
    }
   ],
   "source": [
    "print(dir(random),end=\" \")"
   ]
  },
  {
   "cell_type": "code",
   "execution_count": null,
   "metadata": {},
   "outputs": [],
   "source": [
    "https://docs.python.org/3/py-modindex.html"
   ]
  },
  {
   "cell_type": "code",
   "execution_count": null,
   "metadata": {},
   "outputs": [],
   "source": []
  },
  {
   "cell_type": "code",
   "execution_count": null,
   "metadata": {},
   "outputs": [],
   "source": [
    "#monday onwards new meeting id:\n",
    "sip python online batch's Meeting\n",
    "\n",
    "Please join my meeting from your computer, tablet or smartphone.\n",
    "https://www.gotomeet.me/sippythononline\n",
    "\n",
    "You can also dial in using your phone.\n",
    "United States: +1 (571) 317-3122\n",
    "\n",
    "Access Code: 796-716-573\n",
    "\n",
    "\n",
    "New to GoToMeeting? Get the app now and be ready when your first meeting starts: https://global.gotomeeting.com/install/796716573 "
   ]
  }
 ],
 "metadata": {
  "kernelspec": {
   "display_name": "Python 3",
   "language": "python",
   "name": "python3"
  },
  "language_info": {
   "codemirror_mode": {
    "name": "ipython",
    "version": 3
   },
   "file_extension": ".py",
   "mimetype": "text/x-python",
   "name": "python",
   "nbconvert_exporter": "python",
   "pygments_lexer": "ipython3",
   "version": "3.7.3"
  }
 },
 "nbformat": 4,
 "nbformat_minor": 2
}
