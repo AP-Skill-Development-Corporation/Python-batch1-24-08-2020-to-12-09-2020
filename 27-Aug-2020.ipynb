{
 "cells": [
  {
   "cell_type": "code",
   "execution_count": 6,
   "metadata": {},
   "outputs": [
    {
     "name": "stdout",
     "output_type": "stream",
     "text": [
      "Enter userid: 56\n",
      "Invalid userid\n"
     ]
    }
   ],
   "source": [
    "userid=int(input('Enter userid: '))\n",
    "if(userid>=100 and userid<=200):\n",
    "    password=input('Enter Password: ')\n",
    "    if(password=='apssdc@123'):\n",
    "        print(\"Welcome\")\n",
    "    else:\n",
    "        print(\"Invalid Password\")\n",
    "else:\n",
    "    print(\"Invalid userid\")"
   ]
  },
  {
   "cell_type": "markdown",
   "metadata": {},
   "source": [
    "# Loops"
   ]
  },
  {
   "cell_type": "code",
   "execution_count": null,
   "metadata": {},
   "outputs": [],
   "source": [
    "# why we use loops"
   ]
  },
  {
   "cell_type": "code",
   "execution_count": 10,
   "metadata": {},
   "outputs": [
    {
     "name": "stdout",
     "output_type": "stream",
     "text": [
      "apssdc\n",
      "apssdc\n",
      "apssdc\n",
      "apssdc\n",
      "apssdc\n"
     ]
    }
   ],
   "source": [
    "print(\"apssdc\")\n",
    "print(\"apssdc\")\n",
    "print(\"apssdc\")\n",
    "print(\"apssdc\")\n",
    "print(\"apssdc\")\n",
    ".\n",
    ".\n",
    ".\n",
    ".\n",
    "."
   ]
  },
  {
   "cell_type": "code",
   "execution_count": null,
   "metadata": {},
   "outputs": [],
   "source": [
    "loops:   for loop\n",
    "         while loop\n",
    "        "
   ]
  },
  {
   "cell_type": "code",
   "execution_count": null,
   "metadata": {},
   "outputs": [],
   "source": [
    "loop: A loop is used for executing a block of statements repeatedly until a \n",
    "    particular condition is satisfied....\n",
    "                (or)\n",
    "        A loop is an instruction that repeats multiple times as long as some \n",
    "           condition is met"
   ]
  },
  {
   "cell_type": "code",
   "execution_count": null,
   "metadata": {},
   "outputs": [],
   "source": [
    "for loop syntax:\n",
    "    \n",
    "    for value in range(start,end,stepcount(or)increase/decrease):\n",
    "        statements\n",
    "    "
   ]
  },
  {
   "cell_type": "code",
   "execution_count": null,
   "metadata": {},
   "outputs": [],
   "source": [
    "for loop : A for loop is used for iterating over a \n",
    "              sequence(that is either list,tuple,string,set,dictionary)"
   ]
  },
  {
   "cell_type": "code",
   "execution_count": 19,
   "metadata": {},
   "outputs": [
    {
     "name": "stdout",
     "output_type": "stream",
     "text": [
      "python python python python python python python python python python python python python python python python python python python python "
     ]
    }
   ],
   "source": [
    "# print your name 20 times\n",
    "for s in range(20):\n",
    "    print(\"python\",end=' ')"
   ]
  },
  {
   "cell_type": "code",
   "execution_count": 15,
   "metadata": {},
   "outputs": [
    {
     "name": "stdout",
     "output_type": "stream",
     "text": [
      "1 2 3 4 5 6 7 8 9 10 "
     ]
    }
   ],
   "source": [
    "# print 1 to 10 numbers\n",
    "for i in range(1,11):   # 1   2  3 4   5  ............ 10\n",
    "    print(i,end=' ')              # 1  2  3 4  5  .............10\n"
   ]
  },
  {
   "cell_type": "code",
   "execution_count": 22,
   "metadata": {},
   "outputs": [
    {
     "name": "stdout",
     "output_type": "stream",
     "text": [
      "10 9 8 7 6 5 4 3 2 1 "
     ]
    }
   ],
   "source": [
    "# 10 to 1 numbers printing\n",
    "for i in range(10,0,-1):\n",
    "    print(i,end=' ')"
   ]
  },
  {
   "cell_type": "code",
   "execution_count": 23,
   "metadata": {},
   "outputs": [
    {
     "name": "stdout",
     "output_type": "stream",
     "text": [
      "10 8 6 4 2 "
     ]
    }
   ],
   "source": [
    "# 10 8 6 4 2 \n",
    "for i in range(10,0,-2):\n",
    "    print(i,end=' ')"
   ]
  },
  {
   "cell_type": "code",
   "execution_count": 24,
   "metadata": {},
   "outputs": [
    {
     "name": "stdout",
     "output_type": "stream",
     "text": [
      "10 7 4 1 "
     ]
    }
   ],
   "source": [
    "# 10 7 4 1\n",
    "for i in range(10,0,-3):\n",
    "    print(i,end=' ')"
   ]
  },
  {
   "cell_type": "code",
   "execution_count": 27,
   "metadata": {},
   "outputs": [
    {
     "name": "stdout",
     "output_type": "stream",
     "text": [
      "1 3 5 7 9 "
     ]
    }
   ],
   "source": [
    "# 1 3 5 7 9\n",
    "for i in range(1,10,2):\n",
    "    print(i,end=' ')"
   ]
  },
  {
   "cell_type": "code",
   "execution_count": 31,
   "metadata": {},
   "outputs": [
    {
     "name": "stdout",
     "output_type": "stream",
     "text": [
      "0 1 2 3 4 5 6 7 8 9 10 "
     ]
    }
   ],
   "source": [
    "for i in range(11):\n",
    "    print(i,end=' ')"
   ]
  },
  {
   "cell_type": "code",
   "execution_count": null,
   "metadata": {},
   "outputs": [],
   "source": [
    "# i/p: 100\n",
    "# o/p: 1 2 3 ................................\n"
   ]
  },
  {
   "cell_type": "code",
   "execution_count": 42,
   "metadata": {},
   "outputs": [
    {
     "name": "stdout",
     "output_type": "stream",
     "text": [
      "100\n",
      "1 2 3 4 5 6 7 8 9 10 11 12 13 14 15 16 17 18 19 20 21 22 23 24 25 26 27 28 29 30 31 32 33 34 35 36 37 38 39 40 41 42 43 44 45 46 47 48 49 50 51 52 53 54 55 56 57 58 59 60 61 62 63 64 65 66 67 68 69 70 71 72 73 74 75 76 77 78 79 80 81 82 83 84 85 86 87 88 89 90 91 92 93 94 95 96 97 98 99 100 "
     ]
    }
   ],
   "source": [
    "n=int(input())\n",
    "for i in range(1,n+1):   \n",
    "    print(i,end=' ')  "
   ]
  },
  {
   "cell_type": "code",
   "execution_count": 45,
   "metadata": {},
   "outputs": [
    {
     "name": "stdout",
     "output_type": "stream",
     "text": [
      "a p s s d c "
     ]
    }
   ],
   "source": [
    "# apssdc\n",
    "n=\"apssdc\"\n",
    "for i in n:    # a  p  s s d c \n",
    "    print(i,end=' ') # a p s s d c...."
   ]
  },
  {
   "cell_type": "code",
   "execution_count": 44,
   "metadata": {},
   "outputs": [
    {
     "name": "stdout",
     "output_type": "stream",
     "text": [
      "1 2 3 4 5 6 7 8 9 "
     ]
    }
   ],
   "source": [
    "for i in range(1,10):\n",
    "    print(i,end=' ')"
   ]
  },
  {
   "cell_type": "code",
   "execution_count": 52,
   "metadata": {},
   "outputs": [
    {
     "name": "stdout",
     "output_type": "stream",
     "text": [
      "15\n"
     ]
    }
   ],
   "source": [
    "# 1 to 5 numbers      # 1 2 3 4 5\n",
    "# total=15                1+2+3+4+5=15\n",
    "total=0\n",
    "for i in range(1,6): # 1      2      3       4       5\n",
    "    total=total+i   # 0+1=1  1+2=3  3+3=6   6+4=10   10+5=15\n",
    "print(total)         # 1        3       6    10      15\n",
    "    "
   ]
  },
  {
   "cell_type": "code",
   "execution_count": 53,
   "metadata": {},
   "outputs": [
    {
     "name": "stdout",
     "output_type": "stream",
     "text": [
      "10\n",
      "1 2 5 10 "
     ]
    }
   ],
   "source": [
    "# i/p:  10              # 1 2 3 4 5 6 7 8 9 10  \n",
    "# o/p: 1 2 5 10\n",
    "n=int(input())    # 10\n",
    "for i in range(1,n+1):    # 1,10\n",
    "    if(n%i==0):     10%1==0(T)   10%2==0(T)   10%3==0(F)  10%4==0(F)\n",
    "        print(i,end=' ')          2                         "
   ]
  },
  {
   "cell_type": "code",
   "execution_count": 56,
   "metadata": {},
   "outputs": [
    {
     "name": "stdout",
     "output_type": "stream",
     "text": [
      "10\n",
      "factorial= 3628800\n"
     ]
    }
   ],
   "source": [
    "# Factorial           1*2*3*4*5=120 (or)  5*4*3*2*1=120\n",
    "# i/p: 5\n",
    "# o/p: 120\n",
    "f=1      \n",
    "s=int(input())      # 5  \n",
    "for i in range(1,s+1):   # 1   2        3       4          5\n",
    "    f=f*i            #1*1=1     1*2=2  2*3=6    6*4=24   24*5=120\n",
    "print(\"factorial=\",f)        \n",
    "    \n"
   ]
  },
  {
   "cell_type": "code",
   "execution_count": 60,
   "metadata": {},
   "outputs": [
    {
     "name": "stdout",
     "output_type": "stream",
     "text": [
      "5\n",
      "Prime Number\n"
     ]
    }
   ],
   "source": [
    "# prime number\n",
    "# i/p: 3            \n",
    "# o/p: prime number\n",
    "# 3= 1,3=2    1,5    1,7   1,11   1,13    1,17\n",
    "n=int(input())     #    3\n",
    "fc=0\n",
    "for i in range(1,n+1):    # 1 2 3      1    2         3             4                 5\n",
    "    if(n%i==0):          #    5%1==0(T)    5%2==0(F)    5%3==0(F)   5%4==0(F)       5%5==0(T) \n",
    "        fc=fc+1      #          0+1=1                                                   1+1=2=FC\n",
    "if(fc==2):    (T)\n",
    "    print(\"Prime Number\")\n",
    "else:\n",
    "    print(\"Not Prime Number\")"
   ]
  },
  {
   "cell_type": "code",
   "execution_count": 61,
   "metadata": {},
   "outputs": [
    {
     "ename": "IndentationError",
     "evalue": "unexpected indent (<ipython-input-61-ef0f333b13b6>, line 4)",
     "output_type": "error",
     "traceback": [
      "\u001b[1;36m  File \u001b[1;32m\"<ipython-input-61-ef0f333b13b6>\"\u001b[1;36m, line \u001b[1;32m4\u001b[0m\n\u001b[1;33m    5 X 2 =10\u001b[0m\n\u001b[1;37m    ^\u001b[0m\n\u001b[1;31mIndentationError\u001b[0m\u001b[1;31m:\u001b[0m unexpected indent\n"
     ]
    }
   ],
   "source": [
    "# table  \n",
    "# I/P: 5\n",
    "# O/P: 5 X 1 = 5\n",
    "       5 X 2 =10\n",
    "        .\n",
    "        .\n",
    "        5 X 10 = 50\n"
   ]
  },
  {
   "cell_type": "code",
   "execution_count": 65,
   "metadata": {},
   "outputs": [
    {
     "name": "stdout",
     "output_type": "stream",
     "text": [
      "7\n",
      "7 X 1 = 7\n",
      "7 X 2 = 14\n",
      "7 X 3 = 21\n",
      "7 X 4 = 28\n",
      "7 X 5 = 35\n",
      "7 X 6 = 42\n",
      "7 X 7 = 49\n",
      "7 X 8 = 56\n",
      "7 X 9 = 63\n",
      "7 X 10 = 70\n"
     ]
    }
   ],
   "source": [
    "n=int(input())\n",
    "for i in range(1,11):\n",
    "    print(n,'X',i,'=',n*i)\n"
   ]
  },
  {
   "cell_type": "code",
   "execution_count": null,
   "metadata": {},
   "outputs": [],
   "source": [
    "# perfect number   \n",
    "# i/p:  6                  6= 1,2,3=  1+2+3=6    28=1,2,4,7,14=28 \n",
    "# o/p:  perfect number\n",
    "\n",
    "2) i/p:   1\n",
    "   i/p:   10\n",
    "    \n",
    "o/p:   Even numbers are : 2 4 6 8 10\n",
    "       Odd numbers are : 1 3 5 7 9\n",
    "        "
   ]
  }
 ],
 "metadata": {
  "kernelspec": {
   "display_name": "Python 3",
   "language": "python",
   "name": "python3"
  },
  "language_info": {
   "codemirror_mode": {
    "name": "ipython",
    "version": 3
   },
   "file_extension": ".py",
   "mimetype": "text/x-python",
   "name": "python",
   "nbconvert_exporter": "python",
   "pygments_lexer": "ipython3",
   "version": "3.7.3"
  }
 },
 "nbformat": 4,
 "nbformat_minor": 2
}
