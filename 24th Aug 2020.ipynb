{
 "cells": [
  {
   "cell_type": "markdown",
   "metadata": {},
   "source": [
    "- Objectives\n",
    "    - Installtion\n",
    "    - Python Intro\n",
    "    - Markdown Basics"
   ]
  },
  {
   "cell_type": "markdown",
   "metadata": {},
   "source": [
    "# Heading1\n",
    "## Heading 2\n",
    "### Heading 3\n",
    "#### Heading 4\n",
    "##### Heading 5\n",
    "\n",
    "\n",
    "**Bold**\n",
    "\n",
    "*Italic*\n",
    "\n",
    "***Bold and Italic***\n",
    "\n",
    "- Ordered data\n",
    "   1. First \n",
    "   2. Second\n",
    "   3. Third\n",
    "   \n",
    "   \n",
    "- Un ordered \n",
    "    - First\n",
    "        - first\n",
    "    - Second\n",
    "        - second"
   ]
  },
  {
   "cell_type": "markdown",
   "metadata": {},
   "source": [
    "- Python Introduction\n",
    "    - Simple\n",
    "    - General Purpose\n",
    "    - Interpreted and Scripting Language\n",
    "    - High level language\n",
    "    - Object Oriented Programming language\n",
    "    - Guido van Rossum\n",
    "    - Implement in 1989\n",
    "    - release in 1991\n",
    "- Features\n",
    "    - Easy to learn and use\n",
    "    - Platform Independent\n",
    "    - GUI programming support\n",
    "    - Object Oriented\n",
    "    - Cross Platfor language\n",
    "    - Free and Open Source\n",
    "- Applications\n",
    "    - AI\n",
    "    - Machine Learing\n",
    "    - Deep Learning\n",
    "    - Gaming\n",
    "    - Web Applications\n",
    "    - Embedded \n",
    "    - Data Science\n",
    "- Comments\n",
    "    - Single line comment\n",
    "        - represented by #\n",
    "    - Multi line comment\n",
    "        - enclosed in single triple quotes or double triple quotes"
   ]
  },
  {
   "cell_type": "markdown",
   "metadata": {},
   "source": [
    "- python Basics\n",
    "    - variables\n",
    "        - reserved memory location\n",
    "        - Rules\n",
    "            - starts with alphabet, special char i.e underscore(_)\n",
    "            - sholud n't start with number\n",
    "            - case sensitive(num,Num)\n",
    "            - keywords is not acceptable for variable names\n",
    "        - equal operator is used to assign value"
   ]
  },
  {
   "cell_type": "code",
   "execution_count": 17,
   "metadata": {},
   "outputs": [
    {
     "name": "stdout",
     "output_type": "stream",
     "text": [
      "10 2 9\n"
     ]
    }
   ],
   "source": [
    "a = 10\n",
    "b = 2\n",
    "c = 9\n",
    "print(a,b,c)"
   ]
  },
  {
   "cell_type": "code",
   "execution_count": 3,
   "metadata": {},
   "outputs": [
    {
     "data": {
      "text/plain": [
       "10"
      ]
     },
     "execution_count": 3,
     "metadata": {},
     "output_type": "execute_result"
    }
   ],
   "source": [
    "_ = 10\n",
    "_"
   ]
  },
  {
   "cell_type": "code",
   "execution_count": 4,
   "metadata": {},
   "outputs": [],
   "source": [
    "_abc = 10"
   ]
  },
  {
   "cell_type": "code",
   "execution_count": 5,
   "metadata": {},
   "outputs": [
    {
     "ename": "SyntaxError",
     "evalue": "invalid syntax (<ipython-input-5-6e935db904b8>, line 1)",
     "output_type": "error",
     "traceback": [
      "\u001b[1;36m  File \u001b[1;32m\"<ipython-input-5-6e935db904b8>\"\u001b[1;36m, line \u001b[1;32m1\u001b[0m\n\u001b[1;33m    123abc = 10\u001b[0m\n\u001b[1;37m         ^\u001b[0m\n\u001b[1;31mSyntaxError\u001b[0m\u001b[1;31m:\u001b[0m invalid syntax\n"
     ]
    }
   ],
   "source": [
    "123abc = 10"
   ]
  },
  {
   "cell_type": "code",
   "execution_count": 13,
   "metadata": {},
   "outputs": [
    {
     "name": "stdout",
     "output_type": "stream",
     "text": [
      "10\n",
      "150\n"
     ]
    }
   ],
   "source": [
    "num = 10\n",
    "Abc = 150\n",
    "print(num)\n",
    "print(Abc)"
   ]
  },
  {
   "cell_type": "code",
   "execution_count": 8,
   "metadata": {},
   "outputs": [],
   "source": [
    "abc123 = 103\n",
    "abc"
   ]
  },
  {
   "cell_type": "code",
   "execution_count": 18,
   "metadata": {},
   "outputs": [
    {
     "name": "stdout",
     "output_type": "stream",
     "text": [
      "Hii welcome to python online\n"
     ]
    }
   ],
   "source": [
    "print(\"Hii welcome to python online \")"
   ]
  },
  {
   "cell_type": "code",
   "execution_count": 19,
   "metadata": {},
   "outputs": [
    {
     "data": {
      "text/plain": [
       "'Welcome'"
      ]
     },
     "execution_count": 19,
     "metadata": {},
     "output_type": "execute_result"
    }
   ],
   "source": [
    "a = 'Welcome'\n",
    "a"
   ]
  },
  {
   "cell_type": "code",
   "execution_count": null,
   "metadata": {},
   "outputs": [],
   "source": []
  }
 ],
 "metadata": {
  "kernelspec": {
   "display_name": "Python 3",
   "language": "python",
   "name": "python3"
  },
  "language_info": {
   "codemirror_mode": {
    "name": "ipython",
    "version": 3
   },
   "file_extension": ".py",
   "mimetype": "text/x-python",
   "name": "python",
   "nbconvert_exporter": "python",
   "pygments_lexer": "ipython3",
   "version": "3.7.1"
  }
 },
 "nbformat": 4,
 "nbformat_minor": 2
}
