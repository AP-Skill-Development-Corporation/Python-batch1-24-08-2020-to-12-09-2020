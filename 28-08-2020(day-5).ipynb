{
 "cells": [
  {
   "cell_type": "code",
   "execution_count": null,
   "metadata": {},
   "outputs": [],
   "source": [
    "# tasks"
   ]
  },
  {
   "cell_type": "code",
   "execution_count": null,
   "metadata": {},
   "outputs": [],
   "source": [
    "positive---->for variable in range(start,end+1,step+1)\n",
    "reverse----->for variable in range(end,start-1,step-1)"
   ]
  },
  {
   "cell_type": "code",
   "execution_count": 50,
   "metadata": {},
   "outputs": [
    {
     "name": "stdout",
     "output_type": "stream",
     "text": [
      "Enter any number: 5\n",
      "120\n"
     ]
    }
   ],
   "source": [
    "#factorial:\n",
    "n = int(input(\"Enter any number: \"))\n",
    "fact=1\n",
    "for i in range(1,n+1):#1,2,3,4,5\n",
    "       fact = fact*i  #1*2*3*4*5\n",
    "print(fact)"
   ]
  },
  {
   "cell_type": "code",
   "execution_count": 51,
   "metadata": {},
   "outputs": [
    {
     "name": "stdout",
     "output_type": "stream",
     "text": [
      "5\n",
      "4\n",
      "3\n",
      "2\n",
      "1\n"
     ]
    }
   ],
   "source": [
    "for i in range(5,0,-1):\n",
    "    print(i)"
   ]
  },
  {
   "cell_type": "code",
   "execution_count": 53,
   "metadata": {},
   "outputs": [
    {
     "name": "stdout",
     "output_type": "stream",
     "text": [
      "Enter any number: 5\n",
      "120\n"
     ]
    }
   ],
   "source": [
    "#factorial (in reverseorder):#5*4*3*2*1\n",
    "n = int(input(\"Enter any number: \"))\n",
    "fact=1\n",
    "for i in range(n,0,-1):\n",
    "    fact = fact*i\n",
    "print(fact)"
   ]
  },
  {
   "cell_type": "code",
   "execution_count": null,
   "metadata": {},
   "outputs": [],
   "source": [
    "6--->1,2,3,4,5--->1,2,3---->1+2+3=6"
   ]
  },
  {
   "cell_type": "code",
   "execution_count": 61,
   "metadata": {},
   "outputs": [
    {
     "name": "stdout",
     "output_type": "stream",
     "text": [
      "Enter any number: 28\n",
      "Perfect number\n"
     ]
    }
   ],
   "source": [
    "#perfect number\n",
    "n = int(input(\"Enter any number: \"))\n",
    "sum1 = 0\n",
    "for i in range(1, n): #(1,6) #1,2,3,4,5\n",
    "    if(n % i == 0):    # 6%1=0         #6%2=0       #6%3=0       #6%4=0  #6%5=0   \n",
    "        sum1 = sum1 + i #sum1=0+1=1    #sum1=1+2=3  #sum1=3+3=6\n",
    "if (sum1 == n):\n",
    "    print(\"Perfect number\")\n",
    "else:\n",
    "    print(\"not a Perfect number\")"
   ]
  },
  {
   "cell_type": "code",
   "execution_count": 56,
   "metadata": {
    "scrolled": true
   },
   "outputs": [
    {
     "name": "stdout",
     "output_type": "stream",
     "text": [
      "True\n",
      "True\n",
      "True\n",
      "False\n",
      "False\n"
     ]
    }
   ],
   "source": [
    "print(6%1==0)\n",
    "print(6%2==0)\n",
    "print(6%3==0)\n",
    "print(6%4==0)\n",
    "print(6%5==0)"
   ]
  },
  {
   "cell_type": "code",
   "execution_count": 63,
   "metadata": {},
   "outputs": [
    {
     "name": "stdout",
     "output_type": "stream",
     "text": [
      "10\n",
      "1 2 \n",
      "\n",
      "3 4 \n",
      "\n",
      "5 6 \n",
      "\n",
      "7 8 \n",
      "\n",
      "9 10 \n",
      "\n"
     ]
    }
   ],
   "source": [
    "n=int(input())\n",
    "for i in range(1,n+1):\n",
    "    if(i%2==0):\n",
    "        print(i,end=' ')\n",
    "        print('\\n')\n",
    "    else:\n",
    "        print(i,end=' ')"
   ]
  },
  {
   "cell_type": "code",
   "execution_count": 67,
   "metadata": {},
   "outputs": [
    {
     "name": "stdout",
     "output_type": "stream",
     "text": [
      "2 \n",
      "\n",
      "4 \n",
      "\n",
      "6 \n",
      "\n",
      "8 \n",
      "\n",
      "10 \n",
      "\n",
      "1 3 5 7 9 "
     ]
    }
   ],
   "source": [
    "for i in range(2,11,2):\n",
    "    print(i,end=\" \")\n",
    "    print(\"\\n\")\n",
    "for i in range(1,11,2):\n",
    "    print(i,end=\" \")    "
   ]
  },
  {
   "cell_type": "code",
   "execution_count": 2,
   "metadata": {},
   "outputs": [
    {
     "name": "stdout",
     "output_type": "stream",
     "text": [
      "10\n",
      "Even numbers are:  2 4 6 8 10 \n",
      "\n",
      "Odd numbers are:  1 3 5 7 9 "
     ]
    }
   ],
   "source": [
    "#even or odd\n",
    "n=int(input())\n",
    "print(\"Even numbers are: \",end=' ')\n",
    "for i in range(1,n+1):\n",
    "    if(i%2==0):\n",
    "        print(i,end=' ')\n",
    "print(\"\\n\")\n",
    "print(\"Odd numbers are: \",end=' ')\n",
    "for i in range(1,n+1):\n",
    "    if(i%2!=0):\n",
    "        print(i,end=' ')"
   ]
  },
  {
   "cell_type": "code",
   "execution_count": null,
   "metadata": {},
   "outputs": [],
   "source": []
  },
  {
   "cell_type": "markdown",
   "metadata": {},
   "source": [
    "## Iterations(loops)(continution........)"
   ]
  },
  {
   "cell_type": "code",
   "execution_count": null,
   "metadata": {},
   "outputs": [],
   "source": [
    "- for loop\n",
    "- while loop"
   ]
  },
  {
   "cell_type": "code",
   "execution_count": null,
   "metadata": {},
   "outputs": [],
   "source": [
    "# while loop:\n",
    "\n",
    "- the while loop is to beused in the scenario where we dont know the number of iterations.\n",
    "- pre-tested loop\n",
    "#syn:\n",
    "initialization\n",
    "while condition:\n",
    "    statements\n",
    "    increment/decrement"
   ]
  },
  {
   "cell_type": "code",
   "execution_count": 45,
   "metadata": {},
   "outputs": [
    {
     "name": "stdout",
     "output_type": "stream",
     "text": [
      "thankyou\n",
      "thankyou\n",
      "thankyou\n"
     ]
    }
   ],
   "source": [
    "n=2\n",
    "while n<5:\n",
    "    print(\"thankyou\")\n",
    "    n=n+1  "
   ]
  },
  {
   "cell_type": "code",
   "execution_count": null,
   "metadata": {},
   "outputs": [],
   "source": [
    "for loop---->iterate until condition satisfies\n",
    "while loop----->condition satisfies then it starts iteration."
   ]
  },
  {
   "cell_type": "code",
   "execution_count": 7,
   "metadata": {},
   "outputs": [
    {
     "name": "stdout",
     "output_type": "stream",
     "text": [
      "0 1 2 3 4 5 6 7 8 9 "
     ]
    }
   ],
   "source": [
    "n=0\n",
    "while n<10:\n",
    "    print(n,end=\" \")\n",
    "    n+=1 #n=n+1"
   ]
  },
  {
   "cell_type": "code",
   "execution_count": 8,
   "metadata": {},
   "outputs": [
    {
     "name": "stdout",
     "output_type": "stream",
     "text": [
      "10 9 8 7 6 5 4 3 2 1 "
     ]
    }
   ],
   "source": [
    "n=10\n",
    "while n>0:\n",
    "    print(n,end=\" \")\n",
    "    n-=1 #n=n-1"
   ]
  },
  {
   "cell_type": "code",
   "execution_count": null,
   "metadata": {},
   "outputs": [],
   "source": [
    "n=10-1=9\n",
    "9-1"
   ]
  },
  {
   "cell_type": "code",
   "execution_count": 11,
   "metadata": {},
   "outputs": [
    {
     "name": "stdout",
     "output_type": "stream",
     "text": [
      "4\n",
      "5\n"
     ]
    }
   ],
   "source": [
    "a=3\n",
    "a+=1\n",
    "print(a)\n",
    "a+=1\n",
    "print(a)"
   ]
  },
  {
   "cell_type": "code",
   "execution_count": 12,
   "metadata": {},
   "outputs": [
    {
     "name": "stdout",
     "output_type": "stream",
     "text": [
      "0.6666666666666666\n",
      "0\n"
     ]
    }
   ],
   "source": [
    "print(2/3)\n",
    "print(2//3)"
   ]
  },
  {
   "cell_type": "code",
   "execution_count": 15,
   "metadata": {},
   "outputs": [
    {
     "name": "stdout",
     "output_type": "stream",
     "text": [
      "5567576567\n",
      "no of digits= 10\n"
     ]
    }
   ],
   "source": [
    "n=int(input())\n",
    "c=0\n",
    "while n>0:\n",
    "    n=n//10   #264//10=26    #26//10=2  #2//10=0\n",
    "    c=c+1      #   1             2           3\n",
    "print(\"no of digits=\",c)"
   ]
  },
  {
   "cell_type": "code",
   "execution_count": 18,
   "metadata": {},
   "outputs": [
    {
     "name": "stdout",
     "output_type": "stream",
     "text": [
      "5\n",
      "2 is even\n",
      "3 is odd\n",
      "4 is even\n"
     ]
    }
   ],
   "source": [
    "n1=int(input())\n",
    "n=2\n",
    "while n<n1: #2<5\n",
    "    if n%2==0:\n",
    "        print(n,\"is even\")\n",
    "    else:\n",
    "        print(n,\"is odd\")\n",
    "    n=n+1"
   ]
  },
  {
   "cell_type": "code",
   "execution_count": null,
   "metadata": {},
   "outputs": [],
   "source": []
  },
  {
   "cell_type": "code",
   "execution_count": null,
   "metadata": {},
   "outputs": [],
   "source": [
    "#nested loop\n",
    "- when one loop defined within another loop is called nested loop.\n",
    "#syn:\n",
    "for val in sequence:\n",
    "    for val in sequence:\n",
    "        statements\n",
    "statements"
   ]
  },
  {
   "cell_type": "code",
   "execution_count": null,
   "metadata": {},
   "outputs": [],
   "source": [
    "1\n",
    "2 2\n",
    "3 3 3\n",
    "4 4 4 4\n",
    "5 5 5 5 5"
   ]
  },
  {
   "cell_type": "code",
   "execution_count": 20,
   "metadata": {
    "scrolled": false
   },
   "outputs": [
    {
     "name": "stdout",
     "output_type": "stream",
     "text": [
      "1 \n",
      "2 2 \n",
      "3 3 3 \n",
      "4 4 4 4 \n",
      "5 5 5 5 5 \n"
     ]
    }
   ],
   "source": [
    "for i in range(1,6): #1,2,3,4,5\n",
    "    for j in range(0,i): #(0,1)=0   (0,2)=0,1 (0,3)=0,1,2 (0,4)=0,1,2,3   (0,5)=0,1,2,3,4\n",
    "        print(i,end=\" \")\n",
    "    print('')"
   ]
  },
  {
   "cell_type": "code",
   "execution_count": 48,
   "metadata": {},
   "outputs": [
    {
     "name": "stdout",
     "output_type": "stream",
     "text": [
      "0\n",
      "1\n",
      "2\n"
     ]
    }
   ],
   "source": [
    "for i in range(0,3):\n",
    "    print(i)"
   ]
  },
  {
   "cell_type": "code",
   "execution_count": 28,
   "metadata": {},
   "outputs": [
    {
     "name": "stdout",
     "output_type": "stream",
     "text": [
      "0 \n",
      "0 1 \n",
      "0 1 2 \n",
      "0 1 2 3 \n",
      "0 1 2 3 4 \n"
     ]
    }
   ],
   "source": [
    "for i in range(1,6): #1,2,3,4,5\n",
    "    for j in range(0,i): #(0,1)=0   (0,2)=0,1 (0,3)=0,1,2 (0,4)=0,1,2,3   (0,5)=0,1,2,3,4\n",
    "        print(j,end=\" \")\n",
    "    print('')"
   ]
  },
  {
   "cell_type": "code",
   "execution_count": null,
   "metadata": {},
   "outputs": [],
   "source": [
    "0\n",
    "0 1\n",
    "0 1 2\n",
    "0 1 2 3\n",
    "0 1 2 3 4"
   ]
  },
  {
   "cell_type": "code",
   "execution_count": 29,
   "metadata": {},
   "outputs": [
    {
     "name": "stdout",
     "output_type": "stream",
     "text": [
      "* \n",
      "* * \n",
      "* * * \n",
      "* * * * \n",
      "* * * * * \n"
     ]
    }
   ],
   "source": [
    "for i in range(1,6): #1,2,3,4,5\n",
    "    for j in range(0,i): #(0,1)=0   (0,2)=0,1 (0,3)=0,1,2 (0,4)=0,1,2,3   (0,5)=0,1,2,3,4\n",
    "        print('*',end=\" \")\n",
    "    print('')"
   ]
  },
  {
   "cell_type": "code",
   "execution_count": null,
   "metadata": {},
   "outputs": [],
   "source": [
    "#task 1:\n",
    "1 1 1 1 1\n",
    "2 2 2 2\n",
    "3 3 3\n",
    "4 4\n",
    "5\n",
    "\n",
    "#task 2:\n",
    "* \n",
    "* * \n",
    "* * * \n",
    "* * * * \n",
    "* * * * * \n",
    "* * * *\n",
    "* * *\n",
    "* *\n",
    "*"
   ]
  },
  {
   "cell_type": "code",
   "execution_count": null,
   "metadata": {},
   "outputs": [],
   "source": []
  },
  {
   "cell_type": "code",
   "execution_count": null,
   "metadata": {},
   "outputs": [],
   "source": [
    "# jump statements in python:(keyword in python)\n",
    "(break,continue,pass)"
   ]
  },
  {
   "cell_type": "code",
   "execution_count": 31,
   "metadata": {},
   "outputs": [
    {
     "name": "stdout",
     "output_type": "stream",
     "text": [
      "['False', 'None', 'True', 'and', 'as', 'assert', 'async', 'await', 'break', 'class', 'continue', 'def', 'del', 'elif', 'else', 'except', 'finally', 'for', 'from', 'global', 'if', 'import', 'in', 'is', 'lambda', 'nonlocal', 'not', 'or', 'pass', 'raise', 'return', 'try', 'while', 'with', 'yield'] "
     ]
    }
   ],
   "source": [
    "import keyword\n",
    "print(keyword.kwlist,end=\" \")"
   ]
  },
  {
   "cell_type": "code",
   "execution_count": null,
   "metadata": {},
   "outputs": [],
   "source": [
    "# break statement:\n",
    "- terminates the loop statement and transfer execution to the statement immediately following the loop."
   ]
  },
  {
   "cell_type": "code",
   "execution_count": 36,
   "metadata": {},
   "outputs": [
    {
     "name": "stdout",
     "output_type": "stream",
     "text": [
      "p\n",
      "y\n",
      "t\n",
      "h\n",
      "o\n",
      "n\n"
     ]
    }
   ],
   "source": [
    "for i in 'python':\n",
    "    print(i)"
   ]
  },
  {
   "cell_type": "code",
   "execution_count": 34,
   "metadata": {},
   "outputs": [
    {
     "name": "stdout",
     "output_type": "stream",
     "text": [
      "current letter: p\n",
      "current letter: y\n",
      "current letter: t\n"
     ]
    }
   ],
   "source": [
    "for letter in 'pythonh':\n",
    "    if letter=='h':\n",
    "        break\n",
    "    print(\"current letter:\",letter)"
   ]
  },
  {
   "cell_type": "code",
   "execution_count": 38,
   "metadata": {},
   "outputs": [
    {
     "name": "stdout",
     "output_type": "stream",
     "text": [
      "current value: 10\n",
      "current value: 9\n",
      "current value: 8\n",
      "current value: 7\n",
      "current value: 6\n",
      "good bye\n"
     ]
    }
   ],
   "source": [
    "var=10\n",
    "while var>0:\n",
    "    print(\"current value:\",var)\n",
    "    var-=1\n",
    "    if var==5:\n",
    "        break\n",
    "print(\"good bye\")"
   ]
  },
  {
   "cell_type": "code",
   "execution_count": null,
   "metadata": {},
   "outputs": [],
   "source": [
    "# continue---->skip"
   ]
  },
  {
   "cell_type": "code",
   "execution_count": 39,
   "metadata": {},
   "outputs": [
    {
     "name": "stdout",
     "output_type": "stream",
     "text": [
      "current letter: p\n",
      "current letter: y\n",
      "current letter: t\n",
      "current letter: o\n",
      "current letter: n\n"
     ]
    }
   ],
   "source": [
    "for letter in 'pythonh':\n",
    "    if letter=='h':\n",
    "        continue\n",
    "    print(\"current letter:\",letter)"
   ]
  },
  {
   "cell_type": "code",
   "execution_count": 53,
   "metadata": {},
   "outputs": [
    {
     "name": "stdout",
     "output_type": "stream",
     "text": [
      "current value: 9\n",
      "current value: 8\n",
      "current value: 7\n",
      "current value: 6\n",
      "current value: 4\n",
      "current value: 3\n",
      "current value: 2\n",
      "current value: 1\n",
      "current value: 0\n",
      "good bye\n"
     ]
    }
   ],
   "source": [
    "var=10\n",
    "while var>0:\n",
    "    #print(\"current value:\",var)\n",
    "    var-=1\n",
    "    if var==5:\n",
    "        continue\n",
    "    print(\"current value:\",var)\n",
    "print(\"good bye\")"
   ]
  },
  {
   "cell_type": "code",
   "execution_count": 44,
   "metadata": {},
   "outputs": [
    {
     "name": "stdout",
     "output_type": "stream",
     "text": [
      "current letter: p\n",
      "current letter: y\n",
      "current letter: t\n",
      "this is pass block\n",
      "current letter: h\n",
      "current letter: o\n",
      "current letter: n\n",
      "this is pass block\n",
      "current letter: h\n"
     ]
    }
   ],
   "source": [
    "# pass--->null operation\n",
    "for letter in 'pythonh':\n",
    "    if letter=='h':\n",
    "        pass\n",
    "        print(\"this is pass block\")\n",
    "    print(\"current letter:\",letter)"
   ]
  },
  {
   "cell_type": "code",
   "execution_count": null,
   "metadata": {},
   "outputs": [],
   "source": []
  },
  {
   "cell_type": "code",
   "execution_count": null,
   "metadata": {},
   "outputs": [],
   "source": [
    "github link:\n",
    "\n",
    "https://github.com/AP-Skill-Development-Corporation/Python-batch1-24-08-2020-to-12-09-2020"
   ]
  },
  {
   "cell_type": "code",
   "execution_count": null,
   "metadata": {},
   "outputs": [],
   "source": [
    "slack link to join:\n",
    "    \n",
    "https://join.slack.com/t/apssdcpythonb-fqt7663/shared_invite/zt-h4fnrw68-AFl2yiHLD6lilY6sKG_WXQ"
   ]
  }
 ],
 "metadata": {
  "kernelspec": {
   "display_name": "Python 3",
   "language": "python",
   "name": "python3"
  },
  "language_info": {
   "codemirror_mode": {
    "name": "ipython",
    "version": 3
   },
   "file_extension": ".py",
   "mimetype": "text/x-python",
   "name": "python",
   "nbconvert_exporter": "python",
   "pygments_lexer": "ipython3",
   "version": "3.7.3"
  }
 },
 "nbformat": 4,
 "nbformat_minor": 2
}
