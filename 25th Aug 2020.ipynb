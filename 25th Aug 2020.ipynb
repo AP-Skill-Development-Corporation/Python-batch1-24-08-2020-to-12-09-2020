{
 "cells": [
  {
   "cell_type": "markdown",
   "metadata": {},
   "source": [
    "- Data Types\n",
    "    - Int\n",
    "    - Float\n",
    "    - String"
   ]
  },
  {
   "cell_type": "code",
   "execution_count": 1,
   "metadata": {},
   "outputs": [
    {
     "data": {
      "text/plain": [
       "int"
      ]
     },
     "execution_count": 1,
     "metadata": {},
     "output_type": "execute_result"
    }
   ],
   "source": [
    "a = 10\n",
    "type(a)"
   ]
  },
  {
   "cell_type": "code",
   "execution_count": 2,
   "metadata": {},
   "outputs": [
    {
     "data": {
      "text/plain": [
       "float"
      ]
     },
     "execution_count": 2,
     "metadata": {},
     "output_type": "execute_result"
    }
   ],
   "source": [
    "f = 10.5\n",
    "type(f)"
   ]
  },
  {
   "cell_type": "code",
   "execution_count": 3,
   "metadata": {},
   "outputs": [
    {
     "data": {
      "text/plain": [
       "str"
      ]
     },
     "execution_count": 3,
     "metadata": {},
     "output_type": "execute_result"
    }
   ],
   "source": [
    "s = 'python'\n",
    "type(s)"
   ]
  },
  {
   "cell_type": "markdown",
   "metadata": {},
   "source": [
    "- Input types\n",
    "    - static input\n",
    "        - ex: a = 10\n",
    "    - dynamic input\n",
    "        - ex: a = input(\"Enter number: \")"
   ]
  },
  {
   "cell_type": "code",
   "execution_count": 5,
   "metadata": {},
   "outputs": [
    {
     "name": "stdout",
     "output_type": "stream",
     "text": [
      "Enter a value: 10\n",
      "10\n",
      "<class 'str'>\n"
     ]
    }
   ],
   "source": [
    "a = input(\"Enter a value: \")\n",
    "print(a)\n",
    "print(type(a))"
   ]
  },
  {
   "cell_type": "code",
   "execution_count": 6,
   "metadata": {},
   "outputs": [
    {
     "name": "stdout",
     "output_type": "stream",
     "text": [
      "Enter a value: 5\n",
      "5\n",
      "<class 'int'>\n"
     ]
    }
   ],
   "source": [
    "b = int(input(\"Enter a value: \"))\n",
    "print(b)\n",
    "print(type(b))"
   ]
  },
  {
   "cell_type": "code",
   "execution_count": 7,
   "metadata": {},
   "outputs": [
    {
     "name": "stdout",
     "output_type": "stream",
     "text": [
      "Enter a float value: 23.5\n",
      "23.5\n",
      "<class 'float'>\n"
     ]
    }
   ],
   "source": [
    "c = float(input(\"Enter a float value: \"))\n",
    "print(c)\n",
    "print(type(c))"
   ]
  },
  {
   "cell_type": "code",
   "execution_count": 12,
   "metadata": {},
   "outputs": [
    {
     "name": "stdout",
     "output_type": "stream",
     "text": [
      "10\n",
      "10\n",
      "<class 'str'>\n",
      "20\n",
      "<class 'int'>\n"
     ]
    }
   ],
   "source": [
    "a = input()\n",
    "b = input()\n",
    "print(type(a))\n",
    "c = int(a) + int(b)\n",
    "print(c)\n",
    "print(type(c))"
   ]
  },
  {
   "cell_type": "markdown",
   "metadata": {},
   "source": [
    "- type conversions\n",
    "    - convert one data type to another\n",
    "    - 'abcd' -- int,float -- not possible\n",
    "    - '10' -- int,float "
   ]
  },
  {
   "cell_type": "code",
   "execution_count": 17,
   "metadata": {},
   "outputs": [
    {
     "name": "stdout",
     "output_type": "stream",
     "text": [
      "Enter a number: 23.5\n",
      "Enter a number: 34.6\n"
     ]
    },
    {
     "data": {
      "text/plain": [
       "58.1"
      ]
     },
     "execution_count": 17,
     "metadata": {},
     "output_type": "execute_result"
    }
   ],
   "source": [
    "num1 = input(\"Enter a number: \")\n",
    "num2 = input(\"Enter a number: \")\n",
    "add = float(num1) + float(num2)\n",
    "add"
   ]
  },
  {
   "cell_type": "code",
   "execution_count": 3,
   "metadata": {},
   "outputs": [
    {
     "name": "stdout",
     "output_type": "stream",
     "text": [
      "80.6\n"
     ]
    }
   ],
   "source": [
    "a = 10.6\n",
    "b = 70\n",
    "c = a + b\n",
    "print(c)\n",
    "#print(type(c))"
   ]
  },
  {
   "cell_type": "code",
   "execution_count": 4,
   "metadata": {},
   "outputs": [
    {
     "name": "stdout",
     "output_type": "stream",
     "text": [
      "Enter course name: python\n",
      "Enter your branh: All\n",
      "pythonAll\n"
     ]
    }
   ],
   "source": [
    "name = input(\"Enter course name: \")\n",
    "branch = input(\"Enter your branch: \")\n",
    "print(name+branch)"
   ]
  },
  {
   "cell_type": "code",
   "execution_count": 5,
   "metadata": {},
   "outputs": [
    {
     "name": "stdout",
     "output_type": "stream",
     "text": [
      "Enter num1: 10\n",
      "Enter num2: 20\n",
      "30\n"
     ]
    }
   ],
   "source": [
    "num1 = input(\"Enter num1: \")\n",
    "num2 = input(\"Enter num2: \")\n",
    "print(int(num1)+int(num2))"
   ]
  },
  {
   "cell_type": "code",
   "execution_count": 6,
   "metadata": {},
   "outputs": [
    {
     "ename": "TypeError",
     "evalue": "unsupported operand type(s) for +: 'int' and 'str'",
     "output_type": "error",
     "traceback": [
      "\u001b[1;31m---------------------------------------------------------------------------\u001b[0m",
      "\u001b[1;31mTypeError\u001b[0m                                 Traceback (most recent call last)",
      "\u001b[1;32m<ipython-input-6-927a6282a8db>\u001b[0m in \u001b[0;36m<module>\u001b[1;34m\u001b[0m\n\u001b[0;32m      1\u001b[0m \u001b[0mname\u001b[0m \u001b[1;33m=\u001b[0m \u001b[1;34m'python'\u001b[0m\u001b[1;33m\u001b[0m\u001b[1;33m\u001b[0m\u001b[0m\n\u001b[0;32m      2\u001b[0m \u001b[0mb\u001b[0m \u001b[1;33m=\u001b[0m \u001b[1;36m10\u001b[0m\u001b[1;33m\u001b[0m\u001b[1;33m\u001b[0m\u001b[0m\n\u001b[1;32m----> 3\u001b[1;33m \u001b[0mc\u001b[0m \u001b[1;33m=\u001b[0m \u001b[0mb\u001b[0m \u001b[1;33m+\u001b[0m \u001b[0mname\u001b[0m\u001b[1;33m\u001b[0m\u001b[1;33m\u001b[0m\u001b[0m\n\u001b[0m\u001b[0;32m      4\u001b[0m \u001b[0mc\u001b[0m\u001b[1;33m\u001b[0m\u001b[1;33m\u001b[0m\u001b[0m\n",
      "\u001b[1;31mTypeError\u001b[0m: unsupported operand type(s) for +: 'int' and 'str'"
     ]
    }
   ],
   "source": [
    "name = 'python'\n",
    "b = 10\n",
    "c = b + name\n",
    "c "
   ]
  },
  {
   "cell_type": "code",
   "execution_count": 8,
   "metadata": {},
   "outputs": [
    {
     "name": "stdout",
     "output_type": "stream",
     "text": [
      "enter a name: abc\n",
      "Enter number: 20\n"
     ]
    },
    {
     "data": {
      "text/plain": [
       "'abc20'"
      ]
     },
     "execution_count": 8,
     "metadata": {},
     "output_type": "execute_result"
    }
   ],
   "source": [
    "name = input(\"enter a name: \")\n",
    "num = input(\"Enter number: \")\n",
    "c = name + num\n",
    "c"
   ]
  },
  {
   "cell_type": "markdown",
   "metadata": {},
   "source": [
    "- Operators(7 types)\n",
    "    - Arithematic\n",
    "    - Assignment\n",
    "    - Comparision\n",
    "    - Logical\n",
    "    - Membership\n",
    "    - Identity\n",
    "    - Bitwise"
   ]
  },
  {
   "cell_type": "code",
   "execution_count": 9,
   "metadata": {},
   "outputs": [
    {
     "name": "stdout",
     "output_type": "stream",
     "text": [
      "Enter num1: 100\n",
      "Enter num2: 30\n",
      "130\n",
      "70\n",
      "3000\n",
      "3.3333333333333335\n",
      "3\n",
      "10\n",
      "1000000000000000000000000000000000000000000000000000000000000\n"
     ]
    }
   ],
   "source": [
    "# Arithematic operators\n",
    "# +,-,*,/,//,%,**\n",
    "num1 = int(input(\"Enter num1: \"))\n",
    "num2 = int(input(\"Enter num2: \"))\n",
    "add = num1+ num2\n",
    "sub = num1 - num2\n",
    "mul = num1 * num2\n",
    "# gives float value output\n",
    "div = num1 / num2\n",
    "# floor division integer value out\n",
    "fdiv = num1 // num2\n",
    "# modulo returns the remainder\n",
    "mod = num1 % num2\n",
    "exp = num1** num2\n",
    "print(add)\n",
    "print(sub)\n",
    "print(mul)\n",
    "print(div)\n",
    "print(fdiv)\n",
    "print(mod)\n",
    "print(exp)"
   ]
  },
  {
   "cell_type": "code",
   "execution_count": 13,
   "metadata": {},
   "outputs": [
    {
     "name": "stdout",
     "output_type": "stream",
     "text": [
      "3.3333333333333335\n",
      "3\n"
     ]
    }
   ],
   "source": [
    "a = 100\n",
    "b = 30\n",
    "c = a / b\n",
    "d = a // b\n",
    "print(c)\n",
    "print(d)"
   ]
  },
  {
   "cell_type": "code",
   "execution_count": 14,
   "metadata": {},
   "outputs": [
    {
     "data": {
      "text/plain": [
       "32"
      ]
     },
     "execution_count": 14,
     "metadata": {},
     "output_type": "execute_result"
    }
   ],
   "source": [
    "a = 2\n",
    "b = 5\n",
    "c = a ** b\n",
    "c"
   ]
  },
  {
   "cell_type": "code",
   "execution_count": 19,
   "metadata": {},
   "outputs": [],
   "source": [
    "# Assignment operator\n",
    "# =,+=,-=,*=,/=,//=,**=\n",
    "a = 10 \n",
    "b = 5 \n",
    "a += b  #a = a + b #a = 10 + 5 #a = 15\n",
    "b += a  # b = b + a "
   ]
  },
  {
   "cell_type": "code",
   "execution_count": null,
   "metadata": {},
   "outputs": [],
   "source": []
  },
  {
   "cell_type": "code",
   "execution_count": 20,
   "metadata": {},
   "outputs": [
    {
     "name": "stdout",
     "output_type": "stream",
     "text": [
      "15\n",
      "20\n"
     ]
    }
   ],
   "source": [
    "print(a)\n",
    "print(b)"
   ]
  },
  {
   "cell_type": "markdown",
   "metadata": {},
   "source": [
    "- Boolean \n",
    "    - True or False\n",
    "    - return True\n",
    "        - string,number,list,tuple,dict\n",
    "    - returns False\n",
    "        - empty string,zero,empty list,tuple or dict,None,False"
   ]
  },
  {
   "cell_type": "code",
   "execution_count": 21,
   "metadata": {},
   "outputs": [
    {
     "data": {
      "text/plain": [
       "True"
      ]
     },
     "execution_count": 21,
     "metadata": {},
     "output_type": "execute_result"
    }
   ],
   "source": [
    "bool('abc')"
   ]
  },
  {
   "cell_type": "code",
   "execution_count": 22,
   "metadata": {},
   "outputs": [
    {
     "data": {
      "text/plain": [
       "True"
      ]
     },
     "execution_count": 22,
     "metadata": {},
     "output_type": "execute_result"
    }
   ],
   "source": [
    "bool([1,2,3])"
   ]
  },
  {
   "cell_type": "code",
   "execution_count": 23,
   "metadata": {},
   "outputs": [
    {
     "data": {
      "text/plain": [
       "True"
      ]
     },
     "execution_count": 23,
     "metadata": {},
     "output_type": "execute_result"
    }
   ],
   "source": [
    "bool(6)"
   ]
  },
  {
   "cell_type": "code",
   "execution_count": 24,
   "metadata": {},
   "outputs": [
    {
     "data": {
      "text/plain": [
       "True"
      ]
     },
     "execution_count": 24,
     "metadata": {},
     "output_type": "execute_result"
    }
   ],
   "source": [
    "bool(1)"
   ]
  },
  {
   "cell_type": "code",
   "execution_count": 25,
   "metadata": {},
   "outputs": [
    {
     "data": {
      "text/plain": [
       "False"
      ]
     },
     "execution_count": 25,
     "metadata": {},
     "output_type": "execute_result"
    }
   ],
   "source": [
    "bool(0)"
   ]
  },
  {
   "cell_type": "code",
   "execution_count": 26,
   "metadata": {},
   "outputs": [
    {
     "data": {
      "text/plain": [
       "False"
      ]
     },
     "execution_count": 26,
     "metadata": {},
     "output_type": "execute_result"
    }
   ],
   "source": [
    "bool('')"
   ]
  },
  {
   "cell_type": "code",
   "execution_count": 27,
   "metadata": {},
   "outputs": [
    {
     "data": {
      "text/plain": [
       "False"
      ]
     },
     "execution_count": 27,
     "metadata": {},
     "output_type": "execute_result"
    }
   ],
   "source": [
    "bool([])"
   ]
  },
  {
   "cell_type": "code",
   "execution_count": 28,
   "metadata": {},
   "outputs": [
    {
     "data": {
      "text/plain": [
       "False"
      ]
     },
     "execution_count": 28,
     "metadata": {},
     "output_type": "execute_result"
    }
   ],
   "source": [
    "bool(None)"
   ]
  },
  {
   "cell_type": "code",
   "execution_count": 29,
   "metadata": {},
   "outputs": [
    {
     "data": {
      "text/plain": [
       "False"
      ]
     },
     "execution_count": 29,
     "metadata": {},
     "output_type": "execute_result"
    }
   ],
   "source": [
    "bool(False)"
   ]
  },
  {
   "cell_type": "code",
   "execution_count": 31,
   "metadata": {},
   "outputs": [
    {
     "name": "stdout",
     "output_type": "stream",
     "text": [
      "True\n",
      "True\n",
      "False\n"
     ]
    }
   ],
   "source": [
    "# Logical Operaators\n",
    "# And , or, Not\n",
    "# used to combine and conditional statements\n",
    "# And - returns true both are true else returns False\n",
    "# Or -- returns True if any one is True\n",
    "# Not -- reverse the result\n",
    "a = 5\n",
    "print(a > 2 and a < 10)\n",
    "print(a > 2 or a < 10)\n",
    "print(not(a > 2 and a < 10))"
   ]
  },
  {
   "cell_type": "code",
   "execution_count": 34,
   "metadata": {},
   "outputs": [
    {
     "name": "stdout",
     "output_type": "stream",
     "text": [
      "False\n",
      "True\n",
      "False\n",
      "True\n",
      "False\n",
      "True\n"
     ]
    }
   ],
   "source": [
    "# Comparision operators \n",
    "# ==,>,<,>=,<=,!=\n",
    "a = 2\n",
    "b = 5\n",
    "print(a==b)\n",
    "print(a != b)\n",
    "print(a >= b)\n",
    "print(a <= b)\n",
    "print(a > b)\n",
    "print(a < b)"
   ]
  },
  {
   "cell_type": "code",
   "execution_count": 37,
   "metadata": {},
   "outputs": [
    {
     "name": "stdout",
     "output_type": "stream",
     "text": [
      "True\n",
      "False\n",
      "True\n"
     ]
    }
   ],
   "source": [
    "# Membership Operators(in,not in)\n",
    "# used to test a sequence\n",
    "name = 'python'\n",
    "print('p' in name)\n",
    "print('p' not in name)\n",
    "print('z' not in name)"
   ]
  },
  {
   "cell_type": "code",
   "execution_count": 50,
   "metadata": {},
   "outputs": [
    {
     "name": "stdout",
     "output_type": "stream",
     "text": [
      "True\n",
      "True\n",
      "True\n"
     ]
    }
   ],
   "source": [
    "# Identity operators(is,is not)\n",
    "# used to compare objects if they are equal\n",
    "a = 'python'\n",
    "b = 'python'\n",
    "c = a\n",
    "print(a is c)\n",
    "print(a is b)\n",
    "print(a == b)"
   ]
  },
  {
   "cell_type": "code",
   "execution_count": 46,
   "metadata": {},
   "outputs": [
    {
     "name": "stdout",
     "output_type": "stream",
     "text": [
      "2\n",
      "10\n",
      "8\n",
      "-3\n",
      "2048\n",
      "0\n"
     ]
    }
   ],
   "source": [
    "# Bitwise operators(&,|,~,^,>>,<<)\n",
    "# used to compare binary numbers\n",
    "a = 2 #0010\n",
    "b = 10 # 1010\n",
    "#print(bin(a))\n",
    "#print(bin(b))\n",
    "c = a & b\n",
    "print(c)\n",
    "#print(type(c))\n",
    "print(a | b)\n",
    "print(a ^ b)\n",
    "print(~a)\n",
    "print(a << b)\n",
    "print( a >> b)"
   ]
  },
  {
   "cell_type": "code",
   "execution_count": null,
   "metadata": {},
   "outputs": [],
   "source": [
    "# And(&)        or(|)     Xor(^)\n",
    "# 2 -- 0010     0010      0010\n",
    "# 10 - 1010     1010      1010\n",
    "--------------------------------\n",
    "#      0010     1010      1000\n",
    "\n",
    "# Xor\n",
    "0 0 0\n",
    "0 1 1\n",
    "1 0 1\n",
    "1 1  0\n",
    "- left shift\n",
    "- 10 << 2\n",
    "# 32 16 8 4 2 1\n",
    "# 1  0  1 0 0 0\n",
    "101000.00\n",
    "- 10 >> 2\n",
    "- 1010\n",
    "10.00"
   ]
  },
  {
   "cell_type": "code",
   "execution_count": 47,
   "metadata": {},
   "outputs": [
    {
     "data": {
      "text/plain": [
       "40"
      ]
     },
     "execution_count": 47,
     "metadata": {},
     "output_type": "execute_result"
    }
   ],
   "source": [
    "10 << 2"
   ]
  },
  {
   "cell_type": "code",
   "execution_count": 48,
   "metadata": {},
   "outputs": [
    {
     "data": {
      "text/plain": [
       "2"
      ]
     },
     "execution_count": 48,
     "metadata": {},
     "output_type": "execute_result"
    }
   ],
   "source": [
    "10 >> 2"
   ]
  },
  {
   "cell_type": "code",
   "execution_count": 49,
   "metadata": {},
   "outputs": [
    {
     "data": {
      "text/plain": [
       "-11"
      ]
     },
     "execution_count": 49,
     "metadata": {},
     "output_type": "execute_result"
    }
   ],
   "source": [
    "~10(-(10+1))"
   ]
  },
  {
   "cell_type": "code",
   "execution_count": 52,
   "metadata": {},
   "outputs": [
    {
     "data": {
      "text/plain": [
       "-21"
      ]
     },
     "execution_count": 52,
     "metadata": {},
     "output_type": "execute_result"
    }
   ],
   "source": [
    "a = 20\n",
    "~a"
   ]
  },
  {
   "cell_type": "code",
   "execution_count": null,
   "metadata": {},
   "outputs": [],
   "source": []
  }
 ],
 "metadata": {
  "kernelspec": {
   "display_name": "Python 3",
   "language": "python",
   "name": "python3"
  },
  "language_info": {
   "codemirror_mode": {
    "name": "ipython",
    "version": 3
   },
   "file_extension": ".py",
   "mimetype": "text/x-python",
   "name": "python",
   "nbconvert_exporter": "python",
   "pygments_lexer": "ipython3",
   "version": "3.7.1"
  }
 },
 "nbformat": 4,
 "nbformat_minor": 2
}
