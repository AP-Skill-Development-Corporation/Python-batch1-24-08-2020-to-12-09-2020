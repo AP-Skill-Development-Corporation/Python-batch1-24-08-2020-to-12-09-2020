{
 "cells": [
  {
   "cell_type": "markdown",
   "metadata": {},
   "source": [
    "- Tasks\n",
    "    - check string is palindrome or not\n",
    "    - count number of alphabets,numbers,special chars in string\n",
    "        - input - python@123\n",
    "    - input - A P S S D C\n",
    "        - output - Apssdc\n",
    "    - Name task\n",
    "        - input - Puvvula Ambika Sai\n",
    "        - Output - P. Ambika Sai\n",
    "    - print words which are not ends with vowels\n",
    "        - input - Ambika python sky \n",
    "        - output - sky python\n",
    "    - duplicates remove\n",
    "        - input = [1,2,3,5,1,2,3]\n",
    "        - output = [1,2,3,5]\n",
    "    - unique elements\n",
    "        - input = [1,2,3,5,1,2,3]\n",
    "        - output = [5]\n",
    "    - Digit frequency\n",
    "         input - 123abcd045grty0\n",
    "         - output - 0 -- 2\n",
    "                     1 -- 1\n",
    "                     2 -- 1\n",
    "                     3 -- 1\n",
    "                     4 -- 1\n",
    "                     5 -- 1\n",
    "                     6 -- 0\n",
    "                     7 -- 0\n",
    "                     8 -- 0\n",
    "                     9 -- 0"
   ]
  },
  {
   "cell_type": "code",
   "execution_count": 2,
   "metadata": {},
   "outputs": [
    {
     "name": "stdout",
     "output_type": "stream",
     "text": [
      "Enter a string: sky\n",
      "Not palindrome\n"
     ]
    }
   ],
   "source": [
    "# palindrome\n",
    "name = input(\"Enter a string: \")\n",
    "pname = name[::-1]\n",
    "if name == pname:\n",
    "    print(\"Palindrome\")\n",
    "else:\n",
    "    print(\"Not palindrome\")"
   ]
  },
  {
   "cell_type": "code",
   "execution_count": 3,
   "metadata": {},
   "outputs": [
    {
     "name": "stdout",
     "output_type": "stream",
     "text": [
      "python@123\n",
      "Number of alphabets 6\n",
      "Number of digits 3\n",
      "Number of special chars 1\n"
     ]
    }
   ],
   "source": [
    "def Count(string):\n",
    "    a = n = s = 0\n",
    "    for i in string:\n",
    "        if i.isalpha():\n",
    "            a += 1\n",
    "        elif i.isdigit():\n",
    "            n += 1\n",
    "        elif i.isspace()==False:\n",
    "            s += 1\n",
    "    print(\"Number of alphabets\",a)\n",
    "    print(\"Number of digits\",n)\n",
    "    print(\"Number of special chars\",s)\n",
    "string = input()\n",
    "Count(string)"
   ]
  },
  {
   "cell_type": "code",
   "execution_count": 4,
   "metadata": {},
   "outputs": [
    {
     "name": "stdout",
     "output_type": "stream",
     "text": [
      "A P S S D C\n",
      "Apssdc"
     ]
    }
   ],
   "source": [
    "name = input()\n",
    "name = name.capitalize()\n",
    "for i in name:\n",
    "    if i != ' ':\n",
    "        print(i,end=\"\")"
   ]
  },
  {
   "cell_type": "code",
   "execution_count": 5,
   "metadata": {},
   "outputs": [
    {
     "name": "stdout",
     "output_type": "stream",
     "text": [
      "Puvvula Ambika Sai\n",
      "P.Ambika Sai\n"
     ]
    }
   ],
   "source": [
    "# Name task\n",
    "name = input()\n",
    "name = name.partition(' ')\n",
    "print(name[0][0]+'.'+name[-1])"
   ]
  },
  {
   "cell_type": "code",
   "execution_count": 6,
   "metadata": {},
   "outputs": [
    {
     "name": "stdout",
     "output_type": "stream",
     "text": [
      "Puvvula Ambika Sai\n",
      "P.Ambika Sai "
     ]
    }
   ],
   "source": [
    "# Another way\n",
    "name = input().split()\n",
    "print(name[0][0].upper(),'.',sep='',end='')\n",
    "for i in name[1:]:\n",
    "    print(i,end=' ')"
   ]
  },
  {
   "cell_type": "code",
   "execution_count": 9,
   "metadata": {},
   "outputs": [
    {
     "name": "stdout",
     "output_type": "stream",
     "text": [
      "python apple\n",
      "python "
     ]
    }
   ],
   "source": [
    "vowels = ('a','e','i','o','u','A','E','I','O','U')\n",
    "s = input().split()\n",
    "for i in s:\n",
    "    if i.endswith(vowels):\n",
    "        break\n",
    "    else:\n",
    "        print(i,end = \" \")"
   ]
  },
  {
   "cell_type": "code",
   "execution_count": 11,
   "metadata": {},
   "outputs": [
    {
     "name": "stdout",
     "output_type": "stream",
     "text": [
      "1 2 3 4 5 2 3\n"
     ]
    },
    {
     "data": {
      "text/plain": [
       "['1', '2', '3', '4', '5']"
      ]
     },
     "execution_count": 11,
     "metadata": {},
     "output_type": "execute_result"
    }
   ],
   "source": [
    "def UniqueData(allnumbers): # 1 2 3 1 3\n",
    "    unique=[]\n",
    "    for n in allnumbers: # 1\n",
    "        if n not in unique: #\n",
    "            unique.append(n)# 1 2 3 \n",
    "    return unique\n",
    "allnumbers = input().split()\n",
    "UniqueData(allnumbers)"
   ]
  },
  {
   "cell_type": "code",
   "execution_count": 12,
   "metadata": {},
   "outputs": [
    {
     "name": "stdout",
     "output_type": "stream",
     "text": [
      "[1, 4, 5]\n"
     ]
    }
   ],
   "source": [
    "l = [1,2,3,4,5,2,3]\n",
    "li = []\n",
    "for i in l:\n",
    "    if l.count(i) == 1:\n",
    "        li.append(i)\n",
    "print(li)"
   ]
  },
  {
   "cell_type": "code",
   "execution_count": 16,
   "metadata": {},
   "outputs": [
    {
     "name": "stdout",
     "output_type": "stream",
     "text": [
      "123abcd4560uh\n",
      "1 1 1 1 1 1 1 0 0 0 "
     ]
    }
   ],
   "source": [
    "# digit frequency\n",
    "def digitFreq(s):\n",
    "    allnumbers = []\n",
    "    for i in s:\n",
    "        if i.isdigit():\n",
    "            allnumbers.append(i)\n",
    "    unique = UniqueData(allnumbers)\n",
    "    for i in range(0,10):\n",
    "        if str(i) not in unique:\n",
    "            print(0,end=\" \")\n",
    "        else:\n",
    "            count = allnumbers.count(str(i))\n",
    "            print(count,end=\" \")\n",
    "s = input()\n",
    "digitFreq(s)"
   ]
  },
  {
   "cell_type": "code",
   "execution_count": null,
   "metadata": {},
   "outputs": [],
   "source": []
  }
 ],
 "metadata": {
  "kernelspec": {
   "display_name": "Python 3",
   "language": "python",
   "name": "python3"
  },
  "language_info": {
   "codemirror_mode": {
    "name": "ipython",
    "version": 3
   },
   "file_extension": ".py",
   "mimetype": "text/x-python",
   "name": "python",
   "nbconvert_exporter": "python",
   "pygments_lexer": "ipython3",
   "version": "3.7.1"
  }
 },
 "nbformat": 4,
 "nbformat_minor": 2
}
