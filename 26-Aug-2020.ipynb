{
 "cells": [
  {
   "cell_type": "markdown",
   "metadata": {},
   "source": [
    "# Conditional Statements....\n"
   ]
  },
  {
   "cell_type": "code",
   "execution_count": null,
   "metadata": {},
   "outputs": [],
   "source": [
    "--> For decision making purpose..\n",
    "--> We use these statements when we want to execute a block\n",
    "   of code when the given condition is true or false.....\n",
    "-->  4 types of conditional statements\n",
    "     1.if\n",
    "     2.if-else\n",
    "     3.elif\n",
    "     4.nested-if"
   ]
  },
  {
   "cell_type": "code",
   "execution_count": null,
   "metadata": {},
   "outputs": [],
   "source": [
    "if:  if statement checks for a given condition,\n",
    "    if the given condition is true,then the set of code\n",
    "     present inside the block will be executed...\n",
    "\n",
    "if syntax:\n",
    "     \n",
    "        if(condition):  (True)\n",
    "            statements\n",
    "            statements\n",
    "            "
   ]
  },
  {
   "cell_type": "code",
   "execution_count": 1,
   "metadata": {},
   "outputs": [
    {
     "name": "stdout",
     "output_type": "stream",
     "text": [
      "b is greater than a\n"
     ]
    }
   ],
   "source": [
    "# static way \n",
    "a=45\n",
    "b=56\n",
    "if b>a:   # 56>45--> (True)\n",
    "    print(\"b is greater than a\")"
   ]
  },
  {
   "cell_type": "code",
   "execution_count": 4,
   "metadata": {},
   "outputs": [
    {
     "name": "stdout",
     "output_type": "stream",
     "text": [
      "Enter 1st number: 45\n",
      "Enter 2nd number: 78\n",
      "b is greater than a\n"
     ]
    }
   ],
   "source": [
    "# dynamic way\n",
    "a=int(input('Enter 1st number: '))\n",
    "b=int(input('Enter 2nd number: '))\n",
    "if(b>a):\n",
    "    print(\"b is greater than a\")"
   ]
  },
  {
   "cell_type": "code",
   "execution_count": null,
   "metadata": {},
   "outputs": [],
   "source": [
    "# i/p: 6\n",
    "# o/p: postive number"
   ]
  },
  {
   "cell_type": "code",
   "execution_count": 13,
   "metadata": {},
   "outputs": [
    {
     "name": "stdout",
     "output_type": "stream",
     "text": [
      "9\n",
      "9 is postive number\n"
     ]
    }
   ],
   "source": [
    "a=int(input())\n",
    "if(a>0):\n",
    "    print(a,\"is postive number\")"
   ]
  },
  {
   "cell_type": "code",
   "execution_count": 15,
   "metadata": {},
   "outputs": [
    {
     "name": "stdout",
     "output_type": "stream",
     "text": [
      "56\n",
      "12\n",
      "56 is greater than 12\n"
     ]
    }
   ],
   "source": [
    "n1 = int(input())\n",
    "n2 = int(input())\n",
    "if n1 > n2:\n",
    "    print(\"{0} is greater than {1}\".format(n1,n2))"
   ]
  },
  {
   "cell_type": "code",
   "execution_count": null,
   "metadata": {},
   "outputs": [],
   "source": [
    "if-else:  The statement itself tells that if a given condition\n",
    "    is true then execute the statements present inside of\n",
    "    block and if the condition is false then execute else block\n",
    "\n",
    "if-else syntax:\n",
    "    if(condition):  (True)\n",
    "        statements\n",
    "    else:  \n",
    "        statements\n",
    "        "
   ]
  },
  {
   "cell_type": "code",
   "execution_count": 17,
   "metadata": {},
   "outputs": [
    {
     "name": "stdout",
     "output_type": "stream",
     "text": [
      "Enter number: 7\n",
      "Odd\n"
     ]
    }
   ],
   "source": [
    "# i/p: 6           7\n",
    "# o/p: even        odd\n",
    "n=int(input('Enter number: '))\n",
    "if(n%2==0):    # 6%2==0(True)   7%2==0(false)\n",
    "    print(\"Even\")\n",
    "else:\n",
    "    print(\"Odd\")"
   ]
  },
  {
   "cell_type": "code",
   "execution_count": null,
   "metadata": {},
   "outputs": [],
   "source": [
    "# elif statement  : to check one or more conditions"
   ]
  },
  {
   "cell_type": "code",
   "execution_count": null,
   "metadata": {},
   "outputs": [],
   "source": [
    "syntax: \n",
    "    if(condition1):\n",
    "        statements\n",
    "    elif(condition2):\n",
    "        statements\n",
    "    elif(condition3):\n",
    "        statements\n",
    "        .\n",
    "        .\n",
    "        .\n",
    "        .\n",
    "    else:\n",
    "        statements\n",
    "        "
   ]
  },
  {
   "cell_type": "code",
   "execution_count": 20,
   "metadata": {},
   "outputs": [
    {
     "name": "stdout",
     "output_type": "stream",
     "text": [
      "45\n",
      "23\n",
      "78\n",
      "78 is the biggest number\n"
     ]
    }
   ],
   "source": [
    "# maximum of 3 numbers\n",
    "a=int(input())   # 45 \n",
    "b=int(input())   #  78\n",
    "c=int(input())   #   23\n",
    "if(a>b and a>c):   # 45>78(F ) and 45>23(T)--> F\n",
    "    print(a,\"is the biggest number\")\n",
    "elif(b>c): # (78>23)--> (True)\n",
    "    print(b,\"is the biggest number\")\n",
    "else:\n",
    "    print(c,\"is the biggest number\")"
   ]
  },
  {
   "cell_type": "code",
   "execution_count": null,
   "metadata": {},
   "outputs": [],
   "source": [
    "# i/p: 6\n",
    "       even\n",
    "       36--- power 2\n",
    "# i/p: 5\n",
    "       odd\n",
    "       125  -- power 3"
   ]
  },
  {
   "cell_type": "code",
   "execution_count": 24,
   "metadata": {},
   "outputs": [
    {
     "name": "stdout",
     "output_type": "stream",
     "text": [
      "8\n",
      "even\n",
      "64\n"
     ]
    }
   ],
   "source": [
    "n=int(input())\n",
    "if(n%2==0):\n",
    "    print(\"even\")\n",
    "    print(n**2)\n",
    "else:\n",
    "    print(\"Odd\")\n",
    "    print(n**3)"
   ]
  },
  {
   "cell_type": "code",
   "execution_count": null,
   "metadata": {},
   "outputs": [],
   "source": [
    "  0-sunday\n",
    "  1-monday\n",
    "  2-tuesday\n",
    "  3-wednesday\n",
    "  4-thursday\n",
    "  5-friday\n",
    "  6-saturday\n",
    "  above 7--  invalid input\n",
    "\n",
    "    # i/p: 6\n",
    "    # o/p: saturday"
   ]
  },
  {
   "cell_type": "code",
   "execution_count": 28,
   "metadata": {},
   "outputs": [
    {
     "name": "stdout",
     "output_type": "stream",
     "text": [
      "3\n",
      "wednesday\n"
     ]
    }
   ],
   "source": [
    "n=int(input())  # 3\n",
    "if(n==0):   # 3==0(F)\n",
    "    print(\"sunday\")\n",
    "elif(n==1):  # 3==1(F)\n",
    "    print(\"monday\")\n",
    "elif(n==2):   # 3==2(F)\n",
    "    print(\"tuesday\") \n",
    "elif(n==3):  # (3==3)  (T)\n",
    "    print(\"wednesday\")\n",
    "elif(n==4):\n",
    "    print(\"thursday\")\n",
    "elif(n==5):\n",
    "    print(\"friday\")\n",
    "elif(n==6):\n",
    "    print(\"saturday\")\n",
    "else:\n",
    "    print(\"invalid input\")\n"
   ]
  },
  {
   "cell_type": "code",
   "execution_count": null,
   "metadata": {},
   "outputs": [],
   "source": [
    "# Nested if syntax:\n",
    "      \n",
    "    if(condition):\n",
    "        if(condition):\n",
    "            statements\n",
    "        else:\n",
    "            statements\n",
    "    else:\n",
    "        statements"
   ]
  },
  {
   "cell_type": "code",
   "execution_count": null,
   "metadata": {},
   "outputs": [],
   "source": [
    "# i/p: 4\n",
    "       even\n",
    "       >10  --- power 2\n",
    "       <10  --- power 3\n",
    "# i/p: 5\n",
    "       odd number"
   ]
  },
  {
   "cell_type": "code",
   "execution_count": 8,
   "metadata": {},
   "outputs": [
    {
     "name": "stdout",
     "output_type": "stream",
     "text": [
      "24\n",
      "even 576\n"
     ]
    }
   ],
   "source": [
    "n=int(input())\n",
    "if(n%2==0):   # 4%2==0(T)\n",
    "    # print(\"Even\")\n",
    "    if(n>10):  # 4>10(F)\n",
    "        print(\"even\",n**2)  \n",
    "    else:\n",
    "        print(\"even\",n**3)\n",
    "else:\n",
    "    print(\"Odd\")"
   ]
  },
  {
   "cell_type": "code",
   "execution_count": null,
   "metadata": {},
   "outputs": [],
   "source": [
    "i/p:  \n",
    "    user id : 100 to 200  ----->  101\n",
    "    pwd:   enter password ----fixed pwd\n",
    "        \n",
    "    password fixed---- 5673\n",
    "    \n",
    "o/p: Welcome\n",
    "o/p: Invalid password\n",
    "    \n",
    "I/P:  67\n",
    "o/p:  Invalid userid\n",
    "    \n",
    "    "
   ]
  },
  {
   "cell_type": "code",
   "execution_count": null,
   "metadata": {},
   "outputs": [],
   "source": []
  },
  {
   "cell_type": "code",
   "execution_count": null,
   "metadata": {},
   "outputs": [],
   "source": []
  }
 ],
 "metadata": {
  "kernelspec": {
   "display_name": "Python 3",
   "language": "python",
   "name": "python3"
  },
  "language_info": {
   "codemirror_mode": {
    "name": "ipython",
    "version": 3
   },
   "file_extension": ".py",
   "mimetype": "text/x-python",
   "name": "python",
   "nbconvert_exporter": "python",
   "pygments_lexer": "ipython3",
   "version": "3.7.3"
  }
 },
 "nbformat": 4,
 "nbformat_minor": 2
}
