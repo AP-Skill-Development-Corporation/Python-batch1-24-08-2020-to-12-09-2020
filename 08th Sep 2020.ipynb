{
 "cells": [
  {
   "cell_type": "markdown",
   "metadata": {},
   "source": [
    "- Filter\n",
    "    - used to check whether element is there or not\n",
    "    - returns True or False\n",
    "        - syntax\n",
    "            - filter(function,iterable)"
   ]
  },
  {
   "cell_type": "code",
   "execution_count": 2,
   "metadata": {},
   "outputs": [
    {
     "data": {
      "text/plain": [
       "['a', 'b', 'i', 'l']"
      ]
     },
     "execution_count": 2,
     "metadata": {},
     "output_type": "execute_result"
    }
   ],
   "source": [
    "li = [1,2,3,'a','b','i','l']\n",
    "def isAlpha(i):\n",
    "    i = str(i)\n",
    "    if i.isalpha():\n",
    "        return i\n",
    "    return False\n",
    "list(filter(isAlpha,li))"
   ]
  },
  {
   "cell_type": "code",
   "execution_count": 6,
   "metadata": {},
   "outputs": [
    {
     "data": {
      "text/plain": [
       "[53, 59, 61, 67, 71, 73, 79, 83, 89, 97]"
      ]
     },
     "execution_count": 6,
     "metadata": {},
     "output_type": "execute_result"
    }
   ],
   "source": [
    "def isprime(n):\n",
    "    c = 0\n",
    "    for i in range(1,n+1):\n",
    "        if n % i == 0:\n",
    "            c += 1\n",
    "    if c == 2:\n",
    "        return True\n",
    "    else:\n",
    "        return False\n",
    "lb,ub = 50,100\n",
    "primelist = list(filter(isprime,range(lb,ub)))\n",
    "primelist"
   ]
  },
  {
   "cell_type": "code",
   "execution_count": 7,
   "metadata": {},
   "outputs": [
    {
     "data": {
      "text/plain": [
       "[53, 59, 61, 67, 71, 73, 79, 83, 89, 97]"
      ]
     },
     "execution_count": 7,
     "metadata": {},
     "output_type": "execute_result"
    }
   ],
   "source": [
    "# list comprehension\n",
    "primelist1 = [i for i in range(50,101) if isprime(i)]\n",
    "primelist1"
   ]
  },
  {
   "cell_type": "markdown",
   "metadata": {},
   "source": [
    "- Lambda\n",
    "    - Anonymous function i.e without name\n",
    "    - syntax\n",
    "        - lambda argument:expression\n",
    "    - It takes 0 or more arguments but single expression"
   ]
  },
  {
   "cell_type": "code",
   "execution_count": 8,
   "metadata": {},
   "outputs": [
    {
     "data": {
      "text/plain": [
       "216"
      ]
     },
     "execution_count": 8,
     "metadata": {},
     "output_type": "execute_result"
    }
   ],
   "source": [
    "# Basic \n",
    "result = lambda x:x**3\n",
    "result(6)"
   ]
  },
  {
   "cell_type": "code",
   "execution_count": 9,
   "metadata": {},
   "outputs": [
    {
     "data": {
      "text/plain": [
       "[1, 8, 27, 64, 125]"
      ]
     },
     "execution_count": 9,
     "metadata": {},
     "output_type": "execute_result"
    }
   ],
   "source": [
    "# Inline lambda\n",
    "a = list(map(lambda x:x**3,[1,2,3,4,5]))\n",
    "a"
   ]
  },
  {
   "cell_type": "code",
   "execution_count": 10,
   "metadata": {},
   "outputs": [
    {
     "data": {
      "text/plain": [
       "[10, 12, 14, 16, 18]"
      ]
     },
     "execution_count": 10,
     "metadata": {},
     "output_type": "execute_result"
    }
   ],
   "source": [
    "# print even numbers in a range using lambda\n",
    "even = lambda x: x%2 == 0\n",
    "result = list(filter(even,range(10,20)))\n",
    "result"
   ]
  },
  {
   "cell_type": "code",
   "execution_count": null,
   "metadata": {},
   "outputs": [],
   "source": [
    "# name = ['Ambika','Pavani']\n",
    "# surname = ['Puvvula','Karra']\n",
    "# output = ['Ambika Puvvula','Pavani Karra']"
   ]
  },
  {
   "cell_type": "markdown",
   "metadata": {},
   "source": [
    "- OOPs\n",
    "    - Object Oriented Programming\n",
    "    - Class\n",
    "    - Object\n",
    "    - Constructor\n",
    "    - Inheritence\n",
    "    - Packages and Modules using OOPs"
   ]
  },
  {
   "cell_type": "markdown",
   "metadata": {},
   "source": [
    "- Class\n",
    "    - Collection of variables and method\n",
    "    - diff b/w function and method\n",
    "    - function\n",
    "        - collection of statement\n",
    "    - Method\n",
    "        - Function inside class\n",
    "    - syntax\n",
    "        - class class_name:\n",
    "                   var\n",
    "                   methods\n",
    "        - Rules\n",
    "            -First letter should be capital "
   ]
  },
  {
   "cell_type": "code",
   "execution_count": 11,
   "metadata": {},
   "outputs": [],
   "source": [
    "class Hi:\n",
    "    a = 1\n",
    "    b = 8\n",
    "    def display():\n",
    "        print('Hii Iam from display function')"
   ]
  },
  {
   "cell_type": "code",
   "execution_count": 12,
   "metadata": {},
   "outputs": [
    {
     "data": {
      "text/plain": [
       "1"
      ]
     },
     "execution_count": 12,
     "metadata": {},
     "output_type": "execute_result"
    }
   ],
   "source": [
    "Hi.a"
   ]
  },
  {
   "cell_type": "code",
   "execution_count": 13,
   "metadata": {},
   "outputs": [
    {
     "data": {
      "text/plain": [
       "8"
      ]
     },
     "execution_count": 13,
     "metadata": {},
     "output_type": "execute_result"
    }
   ],
   "source": [
    "Hi.b"
   ]
  },
  {
   "cell_type": "code",
   "execution_count": 14,
   "metadata": {},
   "outputs": [
    {
     "name": "stdout",
     "output_type": "stream",
     "text": [
      "Hii Iam from display function\n"
     ]
    }
   ],
   "source": [
    "Hi.display()"
   ]
  },
  {
   "cell_type": "markdown",
   "metadata": {},
   "source": [
    "- Object\n",
    "    - Instance of class\n",
    "    - Blueprint of class\n",
    "    - syntax\n",
    "        - objname = classname"
   ]
  },
  {
   "cell_type": "code",
   "execution_count": 15,
   "metadata": {},
   "outputs": [],
   "source": [
    "# object creation\n",
    "obj = Hi"
   ]
  },
  {
   "cell_type": "code",
   "execution_count": 16,
   "metadata": {},
   "outputs": [
    {
     "data": {
      "text/plain": [
       "1"
      ]
     },
     "execution_count": 16,
     "metadata": {},
     "output_type": "execute_result"
    }
   ],
   "source": [
    "obj.a"
   ]
  },
  {
   "cell_type": "code",
   "execution_count": 17,
   "metadata": {},
   "outputs": [
    {
     "data": {
      "text/plain": [
       "8"
      ]
     },
     "execution_count": 17,
     "metadata": {},
     "output_type": "execute_result"
    }
   ],
   "source": [
    "obj.b"
   ]
  },
  {
   "cell_type": "code",
   "execution_count": 18,
   "metadata": {},
   "outputs": [
    {
     "name": "stdout",
     "output_type": "stream",
     "text": [
      "Hii Iam from display function\n"
     ]
    }
   ],
   "source": [
    "obj.display()"
   ]
  },
  {
   "cell_type": "code",
   "execution_count": 19,
   "metadata": {},
   "outputs": [],
   "source": [
    "# mathematical operation\n",
    "class Math:\n",
    "    def add(a,b):\n",
    "        return a + b\n",
    "    def mul(a,b):\n",
    "        return a * b"
   ]
  },
  {
   "cell_type": "code",
   "execution_count": 21,
   "metadata": {},
   "outputs": [
    {
     "data": {
      "text/plain": [
       "15"
      ]
     },
     "execution_count": 21,
     "metadata": {},
     "output_type": "execute_result"
    }
   ],
   "source": [
    "# create object for class Math\n",
    "mt = Math\n",
    "mt.add(9,6)"
   ]
  },
  {
   "cell_type": "code",
   "execution_count": 22,
   "metadata": {},
   "outputs": [
    {
     "data": {
      "text/plain": [
       "100"
      ]
     },
     "execution_count": 22,
     "metadata": {},
     "output_type": "execute_result"
    }
   ],
   "source": [
    "mt.mul(10,10)"
   ]
  },
  {
   "cell_type": "markdown",
   "metadata": {},
   "source": [
    "- Constructor\n",
    "    - special type of method used to initialize the instance variable of class\n",
    "    - def __init__(self):# default parameter self\n",
    "    - def __init__(self,a,b):# default parameter self\n",
    "    - def __init__(a,self,b):# default parameter a"
   ]
  },
  {
   "cell_type": "code",
   "execution_count": 24,
   "metadata": {},
   "outputs": [
    {
     "name": "stdout",
     "output_type": "stream",
     "text": [
      "Calling without function...\n"
     ]
    }
   ],
   "source": [
    "class Maths:\n",
    "    def __init__(self,name,number):\n",
    "        self.name = name\n",
    "        self.number = number\n",
    "        print('Calling without function...')\n",
    "obj1 = Maths('python',1234)"
   ]
  },
  {
   "cell_type": "code",
   "execution_count": 25,
   "metadata": {},
   "outputs": [
    {
     "data": {
      "text/plain": [
       "'python'"
      ]
     },
     "execution_count": 25,
     "metadata": {},
     "output_type": "execute_result"
    }
   ],
   "source": [
    "obj1.name"
   ]
  },
  {
   "cell_type": "code",
   "execution_count": 26,
   "metadata": {},
   "outputs": [
    {
     "name": "stdout",
     "output_type": "stream",
     "text": [
      "10\n",
      "60\n"
     ]
    }
   ],
   "source": [
    "class Maths1:\n",
    "    def __init__(abc,val1,val2):\n",
    "        abc.val1 = val1\n",
    "        abc.val2 = val2\n",
    "    def show(abc):\n",
    "        print(abc.val1)\n",
    "        print(abc.val2)\n",
    "    def add(abc):\n",
    "        return abc.val1 + abc.val2\n",
    "ma = Maths1(10,60)\n",
    "ma.show()"
   ]
  },
  {
   "cell_type": "code",
   "execution_count": 27,
   "metadata": {},
   "outputs": [
    {
     "data": {
      "text/plain": [
       "70"
      ]
     },
     "execution_count": 27,
     "metadata": {},
     "output_type": "execute_result"
    }
   ],
   "source": [
    "ma.add()"
   ]
  },
  {
   "cell_type": "code",
   "execution_count": 29,
   "metadata": {},
   "outputs": [
    {
     "name": "stdout",
     "output_type": "stream",
     "text": [
      "10\n",
      "60\n"
     ]
    },
    {
     "data": {
      "text/plain": [
       "120"
      ]
     },
     "execution_count": 29,
     "metadata": {},
     "output_type": "execute_result"
    }
   ],
   "source": [
    "class Maths2:\n",
    "    def __init__(abc,val1,val2):\n",
    "        abc.val1 = val1\n",
    "        abc.val2 = val2\n",
    "    def show(abc):\n",
    "        print(abc.val1)\n",
    "        print(abc.val2)\n",
    "    def add(abc,val3):\n",
    "        return abc.val1 + abc.val2 + val3\n",
    "ma = Maths2(10,60)\n",
    "ma.show()\n",
    "ma.add(50)"
   ]
  },
  {
   "cell_type": "code",
   "execution_count": 31,
   "metadata": {},
   "outputs": [
    {
     "name": "stdout",
     "output_type": "stream",
     "text": [
      "Trail\n"
     ]
    }
   ],
   "source": [
    "# Trail\n",
    "class Cons:\n",
    "    def __mycons__(self):\n",
    "        print(\"Trail\")\n",
    "ob = Cons()\n",
    "ob.__mycons__()"
   ]
  },
  {
   "cell_type": "code",
   "execution_count": 33,
   "metadata": {},
   "outputs": [
    {
     "data": {
      "text/plain": [
       "('Ambika', 'APSSDC')"
      ]
     },
     "execution_count": 33,
     "metadata": {},
     "output_type": "execute_result"
    }
   ],
   "source": [
    "class Userinfo:\n",
    "    def __init__(self,name,org):\n",
    "        self.name = name\n",
    "        self.org = org\n",
    "    def show(self):\n",
    "        return(self.name,self.org)\n",
    "ui = Userinfo('Ambika','APSSDC')\n",
    "ui.show()"
   ]
  },
  {
   "cell_type": "markdown",
   "metadata": {},
   "source": [
    "- Inheritance\n",
    "    - Trying to inherit something from parent class to child class\n",
    "    - syntax\n",
    "        - class childclass(parentclass)\n",
    "    - Types\n",
    "        - single level\n",
    "            - one parent class and one child class\n",
    "        - multilevel\n",
    "            - one or more parents and one or more child\n",
    "        - multiple\n",
    "            - more than one parent class but single child class\n",
    "        - hybrid\n",
    "            - combination of all inheritance"
   ]
  },
  {
   "cell_type": "code",
   "execution_count": 36,
   "metadata": {},
   "outputs": [
    {
     "name": "stdout",
     "output_type": "stream",
     "text": [
      "Iam from class A\n",
      "Iam from class B\n"
     ]
    }
   ],
   "source": [
    "# single level inheritance\n",
    "class ClassA():\n",
    "    def classA():\n",
    "        print('Iam from class A')\n",
    "class ClassB(ClassA):\n",
    "    def classB():\n",
    "        print('Iam from class B')\n",
    "obj = ClassB\n",
    "obj.classA()\n",
    "obj.classB()"
   ]
  },
  {
   "cell_type": "code",
   "execution_count": 37,
   "metadata": {},
   "outputs": [
    {
     "name": "stdout",
     "output_type": "stream",
     "text": [
      "From class A\n",
      "From class B\n",
      "From class C\n"
     ]
    }
   ],
   "source": [
    "# Multi level\n",
    "class A:\n",
    "    def classA():\n",
    "        print('From class A')\n",
    "class B(A):\n",
    "    def classB():\n",
    "        print('From class B')\n",
    "class C(B):\n",
    "    def classC():\n",
    "        print('From class C')\n",
    "obj = C\n",
    "obj.classA()\n",
    "obj.classB()\n",
    "obj.classC()"
   ]
  },
  {
   "cell_type": "code",
   "execution_count": 38,
   "metadata": {},
   "outputs": [
    {
     "name": "stdout",
     "output_type": "stream",
     "text": [
      "From class A\n",
      "From class B\n",
      "From class C\n"
     ]
    }
   ],
   "source": [
    "# Multiple\n",
    "class A:\n",
    "    def classA():\n",
    "        print('From class A')\n",
    "class B:\n",
    "    def classB():\n",
    "        print('From class B')\n",
    "class C(A,B):\n",
    "    def classC():\n",
    "        print('From class C')\n",
    "obj = C\n",
    "obj.classA()\n",
    "obj.classB()\n",
    "obj.classC()"
   ]
  },
  {
   "cell_type": "markdown",
   "metadata": {},
   "source": [
    "- Packages and Modules using OOPS\n",
    "    - Package(Folder) : Collection of modules\n",
    "    - Module(.py file) : Collection of functions or classes\n",
    "    - Accessing modules\n",
    "        - import module\n",
    "        - from module import class"
   ]
  },
  {
   "cell_type": "code",
   "execution_count": 39,
   "metadata": {},
   "outputs": [
    {
     "data": {
      "text/plain": [
       "13"
      ]
     },
     "execution_count": 39,
     "metadata": {},
     "output_type": "execute_result"
    }
   ],
   "source": [
    "import mymodule\n",
    "obj = mymodule.Calci\n",
    "obj.add(8,5)"
   ]
  },
  {
   "cell_type": "code",
   "execution_count": 41,
   "metadata": {},
   "outputs": [
    {
     "data": {
      "text/plain": [
       "True"
      ]
     },
     "execution_count": 41,
     "metadata": {},
     "output_type": "execute_result"
    }
   ],
   "source": [
    "import mymodule\n",
    "obj1 = mymodule.Modu\n",
    "obj1.isEven(10)"
   ]
  },
  {
   "cell_type": "code",
   "execution_count": 40,
   "metadata": {},
   "outputs": [
    {
     "name": "stdout",
     "output_type": "stream",
     "text": [
      "16\n",
      "64\n"
     ]
    }
   ],
   "source": [
    "from mymodule import Calci1\n",
    "obj = Calci1(8,8)\n",
    "print(obj.__add__())\n",
    "print(obj.__mul__())"
   ]
  },
  {
   "cell_type": "code",
   "execution_count": null,
   "metadata": {},
   "outputs": [],
   "source": []
  }
 ],
 "metadata": {
  "kernelspec": {
   "display_name": "Python 3",
   "language": "python",
   "name": "python3"
  },
  "language_info": {
   "codemirror_mode": {
    "name": "ipython",
    "version": 3
   },
   "file_extension": ".py",
   "mimetype": "text/x-python",
   "name": "python",
   "nbconvert_exporter": "python",
   "pygments_lexer": "ipython3",
   "version": "3.7.1"
  }
 },
 "nbformat": 4,
 "nbformat_minor": 2
}
